{
 "cells": [
  {
   "cell_type": "markdown",
   "metadata": {},
   "source": [
    "2.1. write a code that asks the fullname of the user and returns their name in reverse order"
   ]
  },
  {
   "cell_type": "code",
   "execution_count": null,
   "metadata": {},
   "outputs": [
    {
     "name": "stdout",
     "output_type": "stream",
     "text": [
      "anodruD avodarumizuR\n"
     ]
    }
   ],
   "source": [
    "a=input(\"Enter your full name:\")\n",
    "b=a[::-1]\n",
    "print(b)"
   ]
  },
  {
   "cell_type": "markdown",
   "metadata": {},
   "source": [
    "2.2. Then it should return only the first name from the given input, on condition that the user enters their lastname first and after space their firstname"
   ]
  },
  {
   "cell_type": "code",
   "execution_count": 2,
   "metadata": {},
   "outputs": [
    {
     "name": "stdout",
     "output_type": "stream",
     "text": [
      "Durdona\n",
      "Durdona\n"
     ]
    }
   ],
   "source": [
    "c=input(\"Enter your full name in the following form: Lastname Firstname\")\n",
    "c=c.strip()\n",
    "# first solution\n",
    "d=c.index(\" \")\n",
    "print(c[d+1:])\n",
    "# second solution\n",
    "f=c.split(' ')\n",
    "print(f[1])\n",
    "\n"
   ]
  }
 ],
 "metadata": {
  "kernelspec": {
   "display_name": "Python 3",
   "language": "python",
   "name": "python3"
  },
  "language_info": {
   "codemirror_mode": {
    "name": "ipython",
    "version": 3
   },
   "file_extension": ".py",
   "mimetype": "text/x-python",
   "name": "python",
   "nbconvert_exporter": "python",
   "pygments_lexer": "ipython3",
   "version": "3.12.8"
  }
 },
 "nbformat": 4,
 "nbformat_minor": 2
}
