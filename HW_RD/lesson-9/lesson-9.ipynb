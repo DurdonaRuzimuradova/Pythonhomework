{
 "cells": [
  {
   "cell_type": "markdown",
   "metadata": {},
   "source": [
    "Map"
   ]
  },
  {
   "cell_type": "code",
   "execution_count": 1,
   "metadata": {},
   "outputs": [
    {
     "name": "stdout",
     "output_type": "stream",
     "text": [
      "[9, 15, 36]\n"
     ]
    }
   ],
   "source": [
    "#1. Write a Python program to triple all numbers in a given list of integers. Use Python map.\n",
    "my_list=[3,5,12]\n",
    "triple_list=list(map(lambda x: 3*x, my_list))\n",
    "print(triple_list)"
   ]
  },
  {
   "cell_type": "code",
   "execution_count": 3,
   "metadata": {},
   "outputs": [
    {
     "name": "stdout",
     "output_type": "stream",
     "text": [
      "[8, 18, 33]\n"
     ]
    }
   ],
   "source": [
    "#2.Write a Python program to add three given lists using Python map and lambda.\n",
    "my_list1=[3,4,19]\n",
    "my_list2=[4,6,2]\n",
    "my_list3=[1,8,12]\n",
    "added_list=list(map(lambda x,y,z: x+y+z,my_list1,my_list2,my_list3))\n",
    "print(added_list)\n"
   ]
  },
  {
   "cell_type": "code",
   "execution_count": 18,
   "metadata": {},
   "outputs": [
    {
     "name": "stdout",
     "output_type": "stream",
     "text": [
      "[['a', 'b', 'c'], ['d', 'f', 'g'], ['h', 'i', 'j', 'k']]\n"
     ]
    }
   ],
   "source": [
    "#3.Write a Python program to listify the list of given strings individually using Python map.\n",
    "my_list=['abc','dfg','hijk']\n",
    "listify=list(map(list,my_list))\n",
    "print(listify)\n"
   ]
  },
  {
   "cell_type": "code",
   "execution_count": 19,
   "metadata": {},
   "outputs": [
    {
     "name": "stdout",
     "output_type": "stream",
     "text": [
      "[10, 400, 27000, 2560000, 312500000, 46656000000, 8235430000000, 1677721600000000, 387420489000000000, 100000000000000000000]\n"
     ]
    }
   ],
   "source": [
    "#4. Write a Python program to create a list containing the power of said number in bases raised to the corresponding number in the index using Python map.\n",
    "base_numbers=[10, 20, 30, 40, 50, 60, 70, 80, 90, 100]\n",
    "index_numbers=[1, 2, 3, 4, 5, 6, 7, 8, 9, 10]\n",
    "power=list(map(lambda x,y: x**y,base_numbers,index_numbers))\n",
    "#power=list(map(pow,base_numbers, index_numbers))\n",
    "print(power)"
   ]
  },
  {
   "cell_type": "code",
   "execution_count": 21,
   "metadata": {},
   "outputs": [
    {
     "name": "stdout",
     "output_type": "stream",
     "text": [
      "[1, 4, 16, 25, 64]\n"
     ]
    }
   ],
   "source": [
    "#5. Write a Python program to square the elements of a list using the map() function.\n",
    "my_list=[1,2,4,5,8]\n",
    "SQR=list(map(lambda x: x*x,my_list))\n",
    "print(SQR)"
   ]
  },
  {
   "cell_type": "code",
   "execution_count": 24,
   "metadata": {},
   "outputs": [
    {
     "name": "stdout",
     "output_type": "stream",
     "text": [
      "{('E', 'e'), ('B', 'b'), ('F', 'f'), ('O', 'o'), ('U', 'u'), ('A', 'a'), ('I', 'i')}\n"
     ]
    }
   ],
   "source": [
    "#6.Write a Python program to convert all the characters into uppercase and lowercase and eliminate duplicate letters from a given sequence. Use the map() function.\n",
    "given_chars={'a', 'b', 'E', 'f', 'a', 'i', 'o', 'U', 'a'}\n",
    "def convert(my_chars):\n",
    "    return str(my_chars).upper(), str(my_chars).lower()\n",
    "result=set(map(convert,given_chars))\n",
    "print(result)"
   ]
  },
  {
   "cell_type": "code",
   "execution_count": 28,
   "metadata": {},
   "outputs": [
    {
     "name": "stdout",
     "output_type": "stream",
     "text": [
      "[(3, 1), (5, 1), (13, -1), (21, -3), (19, 1)]\n"
     ]
    }
   ],
   "source": [
    "#7.Write a Python program to add two given lists and find the difference between them. Use the map() function.\n",
    "list1=[2,3,6,9,10]\n",
    "list2=[1,2,7,12,9]\n",
    "def Add_Dif(x,y):\n",
    "    return x+y, x-y\n",
    "result=list(map(Add_Dif,list1,list2))\n",
    "print(result)\n",
    "\n"
   ]
  },
  {
   "cell_type": "code",
   "execution_count": 31,
   "metadata": {},
   "outputs": [
    {
     "name": "stdout",
     "output_type": "stream",
     "text": [
      "['1', '2', '3', '4', '5']\n",
      "('6', '7', '8')\n"
     ]
    }
   ],
   "source": [
    "#8.Write a Python program to convert a given list of integers and a tuple of integers in a list of strings.\n",
    "given_list=[1,2,3,4,5]\n",
    "given_tuple=(6,7,8)\n",
    "list_str1=list(map(str,given_list))\n",
    "list_str2=tuple(map(str,given_tuple))\n",
    "print(list_str1)\n",
    "print(list_str2)"
   ]
  },
  {
   "cell_type": "code",
   "execution_count": 39,
   "metadata": {},
   "outputs": [
    {
     "name": "stdout",
     "output_type": "stream",
     "text": [
      "['Alberto Franco', 'Gino Mcneill', 'Ryan Parkes', 'Eesha Hinton']\n",
      "['15/05/2002', '17/05/2002', '16/02/1999', '25/09/1998']\n",
      "[35, 37, 39, 35]\n"
     ]
    }
   ],
   "source": [
    "#9. Write a Python program to create a new list taking specific elements from a tuple and convert a string value to an integer.\n",
    "data = [('Alberto Franco','15/05/2002','35kg'), ('Gino Mcneill','17/05/2002','37kg'), ('Ryan Parkes','16/02/1999', '39kg'), ('Eesha Hinton','25/09/1998', '35kg')]\n",
    "Name=list(map(lambda x: x[0],data))\n",
    "DOB=list(map(lambda x: x[1],data))\n",
    "Netto=list(map(lambda x: int(x[2][0:-2]),data))\n",
    "print(Name)\n",
    "print(DOB)\n",
    "print(Netto)\n"
   ]
  },
  {
   "cell_type": "code",
   "execution_count": 43,
   "metadata": {},
   "outputs": [
    {
     "name": "stdout",
     "output_type": "stream",
     "text": [
      "[0, 1, 1, 4, 9, 25, 64, 169]\n"
     ]
    }
   ],
   "source": [
    "#10.Write a Python program to compute the square of the first N Fibonacci numbers, using the map function and generate a list of the numbers.\n",
    "my_list=[0,1]\n",
    "N=8\n",
    "for i in range (2,N):\n",
    "    my_list.append(my_list[-1]+my_list[-2])\n",
    "result=list(map(lambda x: x*x,my_list))\n",
    "print(result)\n"
   ]
  },
  {
   "cell_type": "code",
   "execution_count": 53,
   "metadata": {},
   "outputs": [
    {
     "name": "stdout",
     "output_type": "stream",
     "text": [
      "3\n"
     ]
    }
   ],
   "source": [
    "#11.Write a Python program to compute the sum of elements of an array of integers. Use the map() function.\n",
    "from array import array\n",
    "def array_sum(x):\n",
    "    S=0\n",
    "    for i in x:\n",
    "        S+=i\n",
    "    return S\n",
    "number_array=array('i', [1, 2, 3, 4, 8, -15])\n",
    "numbers=list(map(int,number_array))\n",
    "print(array_sum(numbers))"
   ]
  },
  {
   "cell_type": "code",
   "execution_count": 57,
   "metadata": {},
   "outputs": [
    {
     "data": {
      "text/plain": [
       "(0.5, 0.38, 0.12)"
      ]
     },
     "execution_count": 57,
     "metadata": {},
     "output_type": "execute_result"
    }
   ],
   "source": [
    "#12.Write a Python program to find the ratio of positive numbers, negative numbers and zeroes in an array of integers.\n",
    "from array import array\n",
    "array_int=array('i', [1, 5, -2, -3, 4, 8, 0, -15])\n",
    "numbers=list(map(int,array_int))\n",
    "n=len(numbers)\n",
    "def Ratio (x):\n",
    "    c1=c2=c3=0\n",
    "    for i in x:\n",
    "        if i>0:\n",
    "            c1+=1\n",
    "        elif i<0:\n",
    "            c2+=1\n",
    "        else: c3+=1\n",
    "    return round(c1/n,2), round(c2/n,2), round(c3/n,2)\n",
    "Ratio(numbers)\n",
    "\n"
   ]
  },
  {
   "cell_type": "code",
   "execution_count": 4,
   "metadata": {},
   "outputs": [
    {
     "name": "stdout",
     "output_type": "stream",
     "text": [
      "4\n"
     ]
    }
   ],
   "source": [
    "#13.Write a Python program to count the same pair in two given lists. use map() function.\n",
    "list1= [1, 2, 3, 4, 5, 6, 7, 8]\n",
    "list2= [2, 2, 3, 1, 2, 6, 7, 9]\n",
    "def EQUAL(x,y):\n",
    "    if x==y:\n",
    "     return 1\n",
    "    else:\n",
    "       return 0\n",
    "result=sum(map(EQUAL,list1,list2))\n",
    "print (result)\n"
   ]
  },
  {
   "cell_type": "code",
   "execution_count": 6,
   "metadata": {},
   "outputs": [
    {
     "name": "stdout",
     "output_type": "stream",
     "text": [
      "[8, 4, 7, 9, 4, 9, 8, 3, 1, 3, 2, 8, 7, 3]\n"
     ]
    }
   ],
   "source": [
    "#14. Write a Python program to interleave two lists into another list randomly. Use the map() function.\n",
    "import random\n",
    "list1=[1, 2, 7, 8, 3, 7]\n",
    "list2=[4, 3, 8, 9, 4, 3, 8, 9]\n",
    "list1.extend(list2)\n",
    "random.shuffle(list1)\n",
    "print(list1)"
   ]
  },
  {
   "cell_type": "code",
   "execution_count": 12,
   "metadata": {},
   "outputs": [
    {
     "name": "stdout",
     "output_type": "stream",
     "text": [
      "[{'Science': 88, 'Language': 77}, {'Science': 89, 'Language': 78}, {'Science': 62, 'Language': 84}, {'Science': 95, 'Language': 80}]\n"
     ]
    }
   ],
   "source": [
    "#15. Write a Python program to split a given dictionary of lists into list of dictionaries using the map function.\n",
    "def list_of_dicts(marks):\n",
    "    result = map(dict, zip(*[[(key, val) for val in value] for key, value in marks.items()]))\n",
    "    return list(result)\n",
    "\n",
    "marks = {'Science': [88, 89, 62, 95], 'Language': [77, 78, 84, 80]}\n",
    "print(list_of_dicts(marks))"
   ]
  },
  {
   "cell_type": "code",
   "execution_count": 15,
   "metadata": {},
   "outputs": [
    {
     "data": {
      "text/plain": [
       "[['a', 'p', 'p', 'l', 'e'],\n",
       " ['g', 'r', 'a', 'p', 'e'],\n",
       " ['p', 'e', 'a', 'c', 'h'],\n",
       " ['p', 'e', 'a', 'r']]"
      ]
     },
     "execution_count": 15,
     "metadata": {},
     "output_type": "execute_result"
    }
   ],
   "source": [
    "#16.Write a Python program to convert a given list of strings into a list of lists using the map function.\n",
    "def list_of_lists(my_string):\n",
    "    result=list(map(list,my_string))\n",
    "    return result\n",
    "vegetables=['apple', 'grape','peach', 'pear']\n",
    "list_of_lists(vegetables)"
   ]
  },
  {
   "cell_type": "code",
   "execution_count": 21,
   "metadata": {},
   "outputs": [
    {
     "data": {
      "text/plain": [
       "['red pink', 'white black', 'orange green']"
      ]
     },
     "execution_count": 21,
     "metadata": {},
     "output_type": "execute_result"
    }
   ],
   "source": [
    "#17. Write a Python program to convert a given list of tuples to a list of strings using the map function.\n",
    "def list_of_strings(list_of_tuple):\n",
    "    result=list(map(\" \".join,list_of_tuple))\n",
    "    return result\n",
    "sample=[('red', 'pink'), ('white', 'black'), ('orange', 'green')]\n",
    "list_of_strings(sample)"
   ]
  },
  {
   "cell_type": "markdown",
   "metadata": {},
   "source": [
    "Filter Function"
   ]
  },
  {
   "cell_type": "code",
   "execution_count": 23,
   "metadata": {},
   "outputs": [
    {
     "data": {
      "text/plain": [
       "[3, 5, 35]"
      ]
     },
     "execution_count": 23,
     "metadata": {},
     "output_type": "execute_result"
    }
   ],
   "source": [
    "#1. Write a Python function that filters out even numbers from a list of integers using the filter function.\n",
    "def Filter_even(my_list):\n",
    "    result=list(filter(lambda x: x%2==1,my_list))\n",
    "    return result\n",
    "sample_list=[3,4,12,5,35,62]\n",
    "Filter_even(sample_list)\n"
   ]
  },
  {
   "cell_type": "code",
   "execution_count": 38,
   "metadata": {},
   "outputs": [
    {
     "data": {
      "text/plain": [
       "['H', 'W', 'C', 'P', 'F', 'L']"
      ]
     },
     "execution_count": 38,
     "metadata": {},
     "output_type": "execute_result"
    }
   ],
   "source": [
    "#2. Write a Python program that uses the filter function to extract all uppercase letters from a list of mixed-case strings.\n",
    "def Uppercase(my_list):\n",
    "    result=list(filter(lambda x:x.isupper(),\"\".join(my_list)))\n",
    "    return result\n",
    "sample_list=['Hello', 'W3resourCe', 'Python', 'Filter', 'Learning']\n",
    "Uppercase(sample_list)"
   ]
  },
  {
   "cell_type": "code",
   "execution_count": 41,
   "metadata": {},
   "outputs": [
    {
     "data": {
      "text/plain": [
       "[20, 15, 11, 7]"
      ]
     },
     "execution_count": 41,
     "metadata": {},
     "output_type": "execute_result"
    }
   ],
   "source": [
    "#3. Write a Python function that filters out all elements less than or equal than a specified value from a list of numbers using the filter function.\n",
    "\n",
    "def Less_or_equal(my_list,given_number):\n",
    "    result=list(filter(lambda x: x<=given_number,my_list))\n",
    "    return result\n",
    "sample_list=[20, 15, 24, 37, 23, 11, 7]\n",
    "given_number=21\n",
    "Less_or_equal(sample_list,given_number)"
   ]
  },
  {
   "cell_type": "code",
   "execution_count": 42,
   "metadata": {},
   "outputs": [
    {
     "data": {
      "text/plain": [
       "['Elita', 'Audovacar', 'Iolanda']"
      ]
     },
     "execution_count": 42,
     "metadata": {},
     "output_type": "execute_result"
    }
   ],
   "source": [
    "#4.Write a Python program that creates a list of names and uses the filter function to extract names that start with a vowel (A, E, I, O, U).\n",
    "Wovels=['A', 'E', 'I', 'O', 'U', 'a', 'e', 'i', 'o', 'u']\n",
    "def Filter_names(list_of_names):\n",
    "    result=list(filter(lambda x: x[0] in Wovels,list_of_names))\n",
    "    return result\n",
    "names=[\"Elita\", \"Vitold\", \"Audovacar\", \"Kerensa\", \"Ramana\", \"Iolanda\", \"Landyn\"]\n",
    "Filter_names(names)"
   ]
  },
  {
   "cell_type": "code",
   "execution_count": 43,
   "metadata": {},
   "outputs": [
    {
     "data": {
      "text/plain": [
       "['w3resource', 'Filter', 'Python']"
      ]
     },
     "execution_count": 43,
     "metadata": {},
     "output_type": "execute_result"
    }
   ],
   "source": [
    "#5.Write a Python function that filters out all empty strings from a list of strings using the filter function.\n",
    "def Filter_non_empty(my_list):\n",
    "    result=list(filter(lambda x: x!='',my_list))\n",
    "    return result\n",
    "sample_list=[\"\", \"w3resource\", \"Filter\", \"\", \"Python\", \"\"]\n",
    "Filter_non_empty(sample_list)"
   ]
  },
  {
   "cell_type": "code",
   "execution_count": 49,
   "metadata": {},
   "outputs": [
    {
     "data": {
      "text/plain": [
       "[{'name': 'B', 'age': 21, 'grade': 98}, {'name': 'D', 'age': 20, 'grade': 100}]"
      ]
     },
     "execution_count": 49,
     "metadata": {},
     "output_type": "execute_result"
    }
   ],
   "source": [
    "#6. Write a Python program that creates a list of dictionaries containing student information \n",
    "# (name, age, grade) and uses the filter function to extract students with a grade greater than or equal to 95.\n",
    "list_of_dict=[{'name':'A','age':24, 'grade':80},{'name':'B','age':21, 'grade':98}, {'name':'C','age':22, 'grade':72},{'name':'D','age':20, 'grade':100}]\n",
    "def Filter_grade(my_list):\n",
    "    result=list(filter(lambda x: x['grade']>95,my_list))\n",
    "    return result\n",
    "Filter_grade(list_of_dict)"
   ]
  },
  {
   "cell_type": "code",
   "execution_count": 60,
   "metadata": {},
   "outputs": [
    {
     "name": "stdout",
     "output_type": "stream",
     "text": [
      "[2, 3, 5, 7, 11, 13, 17]\n"
     ]
    }
   ],
   "source": [
    "#7.Write a Python program that filters out prime numbers from a list of integers using the filter function.\n",
    "def Prime(n):\n",
    "    if n<=1:\n",
    "        return False\n",
    "    a=int(n**(0.5))+1\n",
    "    for i in range(2,a):\n",
    "        if n%i==0:\n",
    "            return False\n",
    "    return True\n",
    "my_list=[1, 2, 3, 4, 5, 6, 7, 8, 9, 10, 11, 12, 13, 14, 15, 16, 17]\n",
    "result=list(filter(Prime,my_list))\n",
    "print(result)"
   ]
  },
  {
   "cell_type": "code",
   "execution_count": 61,
   "metadata": {},
   "outputs": [
    {
     "name": "stdout",
     "output_type": "stream",
     "text": [
      "['Orange', 'Yellow']\n"
     ]
    }
   ],
   "source": [
    "#8.Write a Python program that creates a list of words and use the filter function to extract words that contain more than five letters.\n",
    "list_words=[\"Red\", \"Green\", \"Orange\", \"White\", \"Black\", \"Pink\", \"Yellow\"]\n",
    "result=list(filter(lambda x: len(x)>5,list_words))\n",
    "print (result)"
   ]
  },
  {
   "cell_type": "code",
   "execution_count": 62,
   "metadata": {},
   "outputs": [
    {
     "name": "stdout",
     "output_type": "stream",
     "text": [
      "['Orange', 'Black']\n"
     ]
    }
   ],
   "source": [
    "#9.Write a Python function that filters out elements from a list of strings containing a specific substring using the filter function.\n",
    "list_string=[\"Red\", \"Green\", \"Orange\", \"White\", \"Black\", \"Pink\", \"Yellow\"]\n",
    "given_char='a'\n",
    "result=list(filter(lambda x:given_char in x ,list_string))\n",
    "print(result)\n"
   ]
  },
  {
   "cell_type": "code",
   "execution_count": 68,
   "metadata": {},
   "outputs": [
    {
     "name": "stdout",
     "output_type": "stream",
     "text": [
      "['2025-02-22', '2025-12-31']\n"
     ]
    }
   ],
   "source": [
    "#10.Write a Python program that implements a Python program that filters out dates (in the format \"YYYY-MM-DD\") that are in the future using the filter function.\n",
    "from datetime import datetime\n",
    "dates=[\"2023-07-11\", \"2025-02-22\", \"2024-05-11\", \"2025-12-31\", \"2021-01-01\"]\n",
    "current_time=datetime.now()\n",
    "dates=[datetime.strptime(i,'%Y-%m-%d') for i in dates]\n",
    "result=list(filter(lambda x: x>current_time,dates))\n",
    "result1=[i.strftime(\"%Y-%m-%d\") for i in result]\n",
    "print(result1)"
   ]
  },
  {
   "cell_type": "code",
   "execution_count": 71,
   "metadata": {},
   "outputs": [
    {
     "name": "stdout",
     "output_type": "stream",
     "text": [
      "[('New York', 8500000), ('Los Angeles', 4000000), ('Chicago', 2700000), ('Houston', 2300000)]\n"
     ]
    }
   ],
   "source": [
    "#11.Write a Python program that creates a list of tuples, each containing a city name and its population. Use the filter function to extract cities with a population greater than 2 million.\n",
    "list_tuples=[\n",
    "    (\"New York\", 8500000),\n",
    "    (\"Los Angeles\", 4000000),\n",
    "    (\"Chicago\", 2700000),\n",
    "    (\"Houston\", 2300000),\n",
    "    (\"Phoenix\", 1600000),\n",
    "    (\"Philadelphia\", 1500000),\n",
    "    (\"San Antonio\", 1500000),\n",
    "]\n",
    "result=list(filter(lambda x: x[1]>2000000,list_tuples))\n",
    "print(result)"
   ]
  }
 ],
 "metadata": {
  "kernelspec": {
   "display_name": "Python 3",
   "language": "python",
   "name": "python3"
  },
  "language_info": {
   "codemirror_mode": {
    "name": "ipython",
    "version": 3
   },
   "file_extension": ".py",
   "mimetype": "text/x-python",
   "name": "python",
   "nbconvert_exporter": "python",
   "pygments_lexer": "ipython3",
   "version": "3.12.8"
  }
 },
 "nbformat": 4,
 "nbformat_minor": 2
}
