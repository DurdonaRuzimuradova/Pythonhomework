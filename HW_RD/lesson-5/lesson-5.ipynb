{
 "cells": [
  {
   "cell_type": "code",
   "execution_count": 26,
   "metadata": {},
   "outputs": [
    {
     "name": "stdout",
     "output_type": "stream",
     "text": [
      "['Joe', 'Beck']\n"
     ]
    }
   ],
   "source": [
    "# 1. Given a list of tuples where each tuple contains a name and a score, \n",
    "# create a new list that contains the names of students who scored above 80.\n",
    "# Example input: [('Mike', 75), ('Joe', 90), ('Beck', 85)]\n",
    "# Expected output: ['Joe', 'Beck']\n",
    "\n",
    "Name_score=[('Mike', 75), ('Joe', 90), ('Beck', 85)]\n",
    "Passed_students=[]\n",
    "for i in Name_score:\n",
    "    if i[1]>80:\n",
    "        Passed_students.append(i[0])\n",
    "print(Passed_students)\n"
   ]
  },
  {
   "cell_type": "code",
   "execution_count": null,
   "metadata": {},
   "outputs": [
    {
     "data": {
      "text/plain": [
       "[5, 6, 7]"
      ]
     },
     "execution_count": 17,
     "metadata": {},
     "output_type": "execute_result"
    }
   ],
   "source": [
    "# 2. Given a tuple with several lists inside it, \n",
    "# write a function to return the list with the maximum sum of its elements.\n",
    "# Example input: ([1, 2], [3, 4], [5, 6, 7])\n",
    "# Expected output: [5, 6, 7]\n",
    "Numbers=([1, 2], [3, 4], [5, 6, 7])\n",
    "def max_sum(x):\n",
    "    result=[]\n",
    "    for i in x:\n",
    "         S=0 \n",
    "         for j in range(0,len(i)):S=S+i[j] \n",
    "         result.append(S)\n",
    "    M=0\n",
    "    for s in result: \n",
    "        if s>M:\n",
    "            M=s \n",
    "    return(x[result.index(M)])\n",
    "\n",
    "max_sum(Numbers)\n",
    " "
   ]
  },
  {
   "cell_type": "code",
   "execution_count": 18,
   "metadata": {},
   "outputs": [
    {
     "name": "stdout",
     "output_type": "stream",
     "text": [
      "['Joe', 'Beck']\n"
     ]
    }
   ],
   "source": [
    "# 3. Given a list of tuples with names and ages, \n",
    "# return a list of names where the age is greater than 30 and less than 50.\n",
    "# Example input: [('Mike', 25), ('Joe', 31), ('Beck', 40)]\n",
    "# Expected output: ['Joe', 'Beck']\n",
    "Name_Age=[('Mike', 25), ('Joe', 31), ('Beck', 40)]\n",
    "Middle_Aged=[]\n",
    "for i in Name_Age:\n",
    "    if i[1]>30 and i[1]<50:\n",
    "        Middle_Aged.append(i[0])\n",
    "print(Middle_Aged)\n"
   ]
  },
  {
   "cell_type": "code",
   "execution_count": 19,
   "metadata": {},
   "outputs": [
    {
     "data": {
      "text/plain": [
       "[(1, 'Odd'), (2, 'Even'), (3, 'Odd'), (4, 'Even')]"
      ]
     },
     "execution_count": 19,
     "metadata": {},
     "output_type": "execute_result"
    }
   ],
   "source": [
    "# 4. Given a list of integers, \n",
    "# write a function to return a list of tuples where the first element is the number \n",
    "# and the second is 'Even' or 'Odd' depending on whether the number is even or odd.\n",
    "# Example input: [1, 2, 3, 4]\n",
    "# Expected output: [(1, 'Odd'), (2, 'Even'), (3, 'Odd'), (4, 'Even')]\n",
    "\n",
    "NUMBERS=[1, 2, 3, 4]\n",
    "def EvenOrOdd(y):\n",
    "    result=[]\n",
    "    for i in y:\n",
    "         if i%2==0: \n",
    "             result.append((i,'Even'))\n",
    "         else:\n",
    "             result.append((i,'Odd'))\n",
    "    return(result)\n",
    "\n",
    "EvenOrOdd(NUMBERS)"
   ]
  },
  {
   "cell_type": "code",
   "execution_count": 25,
   "metadata": {},
   "outputs": [
    {
     "name": "stdout",
     "output_type": "stream",
     "text": [
      "('cherry', 6)\n"
     ]
    }
   ],
   "source": [
    "# 5. Given a list of tuples containing a string and an integer, \n",
    "# write a function that returns a tuple of the string with the largest length \n",
    "# and its corresponding integer. If two strings have the same length, \n",
    "# choose the one with the larger integer.\n",
    "# Example input: [('apple', 5), ('banana', 4), ('cherry', 6)]\n",
    "# Expected output: ('apple', 5)\n",
    "Fruits=[('apple', 5), ('banana', 4), ('cherry', 6)]\n",
    "\n",
    "def longest(mylist):\n",
    "       return max(mylist, key=lambda x: (len(x[0]), x[1]))\n",
    "\n",
    "print(longest(Fruits))  \n",
    "\n",
    "    \n"
   ]
  },
  {
   "cell_type": "code",
   "execution_count": 20,
   "metadata": {},
   "outputs": [
    {
     "data": {
      "text/plain": [
       "[('2025-01-01', 'Event B'), ('2024-12-01', 'Event A')]"
      ]
     },
     "execution_count": 20,
     "metadata": {},
     "output_type": "execute_result"
    }
   ],
   "source": [
    "# 6. Given a list of tuples where each tuple contains a date (as a string in 'YYYY-MM-DD' format) and an event, \n",
    "# return the list of events in the order of the most recent dates.\n",
    "# Example input: [('2024-12-01', 'Event A'), ('2025-01-01', 'Event B')]\n",
    "# Expected output: [('2025-01-01', 'Event B'), ('2024-12-01', 'Event A')]\n",
    "SampleEvents=[('2024-12-01', 'Event A'), ('2025-01-01', 'Event B')]\n",
    "def SortedEvents(Events):\n",
    "    result=sorted(Events, key=lambda x: x[0],reverse=True)\n",
    "    return(result)\n",
    "\n",
    "SortedEvents(SampleEvents)"
   ]
  },
  {
   "cell_type": "code",
   "execution_count": 27,
   "metadata": {},
   "outputs": [
    {
     "name": "stdout",
     "output_type": "stream",
     "text": [
      "('Joe', 90)\n"
     ]
    }
   ],
   "source": [
    "# 7. Given a list of tuples where each tuple contains a name and a score, \n",
    "# return the highest score and the corresponding name.\n",
    "# Example input: [('Mike', 75), ('Joe', 90), ('Beck', 85)]\n",
    "# Expected output: ('Joe', 90)\n",
    "Score=[('Mike', 75), ('Joe', 90), ('Beck', 85)]\n",
    "max_score=max(Score, key=lambda x:  x[1])\n",
    "print(max_score)"
   ]
  },
  {
   "cell_type": "code",
   "execution_count": 31,
   "metadata": {},
   "outputs": [
    {
     "data": {
      "text/plain": [
       "[('product2', 60)]"
      ]
     },
     "execution_count": 31,
     "metadata": {},
     "output_type": "execute_result"
    }
   ],
   "source": [
    "# 8. Given a list of tuples where each tuple contains a product name and its price, \n",
    "# write a function to return a list of products whose price is between 50 and 100.\n",
    "# Example input: [('product1', 45), ('product2', 60), ('product3', 120)]\n",
    "# Expected output: [('product2', 60)]\n",
    "\n",
    "product=[('product1', 45), ('product2', 60), ('product3', 120)]\n",
    "Sorted_products=[]\n",
    "def Price(x):\n",
    "    for i in x:\n",
    "        if i[1]>50 and i[1]<100:\n",
    "            Sorted_products.append(i)\n",
    "    return(Sorted_products)\n",
    "Price(product)\n",
    "    "
   ]
  },
  {
   "cell_type": "code",
   "execution_count": 38,
   "metadata": {},
   "outputs": [
    {
     "name": "stdout",
     "output_type": "stream",
     "text": [
      "Beck\n"
     ]
    }
   ],
   "source": [
    "# 9. Given a list of tuples where each tuple contains a person's name and their age, \n",
    "# return the name of the oldest person in the list.\n",
    "# Example input: [('Mike', 25), ('Joe', 31), ('Beck', 40)]\n",
    "# Expected output: 'Beck'\n",
    "\n",
    "Name=[('Mike', 25), ('Joe', 31), ('Beck', 40)]\n",
    "oldest=max(Name, key=lambda x: x[1])\n",
    "print(oldest[0])\n"
   ]
  }
 ],
 "metadata": {
  "kernelspec": {
   "display_name": "Python 3",
   "language": "python",
   "name": "python3"
  },
  "language_info": {
   "codemirror_mode": {
    "name": "ipython",
    "version": 3
   },
   "file_extension": ".py",
   "mimetype": "text/x-python",
   "name": "python",
   "nbconvert_exporter": "python",
   "pygments_lexer": "ipython3",
   "version": "3.12.8"
  }
 },
 "nbformat": 4,
 "nbformat_minor": 2
}
