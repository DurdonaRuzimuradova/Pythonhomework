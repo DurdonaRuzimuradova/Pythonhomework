{
 "cells": [
  {
   "cell_type": "markdown",
   "metadata": {},
   "source": [
    "Functions"
   ]
  },
  {
   "cell_type": "code",
   "execution_count": 5,
   "metadata": {},
   "outputs": [
    {
     "data": {
      "text/plain": [
       "19"
      ]
     },
     "execution_count": 5,
     "metadata": {},
     "output_type": "execute_result"
    }
   ],
   "source": [
    " #1.Write a Python function to find the maximum of three numbers.\n",
    "#First way\n",
    "def max_of_three_numbers(x,y,z):\n",
    "    max=0\n",
    "    if x>y: \n",
    "        max=x\n",
    "    else:\n",
    "        max=y\n",
    "    if z>max:\n",
    "       max=z\n",
    "    return max\n",
    "max_of_three_numbers(19,5,10)\n"
   ]
  },
  {
   "cell_type": "code",
   "execution_count": 7,
   "metadata": {},
   "outputs": [
    {
     "data": {
      "text/plain": [
       "12"
      ]
     },
     "execution_count": 7,
     "metadata": {},
     "output_type": "execute_result"
    }
   ],
   "source": [
    " #1.Write a Python function to find the maximum of three numbers.\n",
    "#Second way\n",
    "def Max_of_two_numbers(x,y):\n",
    "    if x>y:\n",
    "        return x\n",
    "    else:\n",
    "        return y\n",
    "\n",
    "def Max_of_three_numbers(x,y,z):\n",
    "    return Max_of_two_numbers(Max_of_two_numbers(x,y),z)\n",
    "\n",
    "Max_of_three_numbers(8,6,12)\n",
    "    "
   ]
  },
  {
   "cell_type": "code",
   "execution_count": 21,
   "metadata": {},
   "outputs": [
    {
     "data": {
      "text/plain": [
       "20"
      ]
     },
     "execution_count": 21,
     "metadata": {},
     "output_type": "execute_result"
    }
   ],
   "source": [
    "#2. Write a Python function to sum all the numbers in a list.\n",
    "def sum(x):\n",
    "   S=0\n",
    "   for i in x:\n",
    "    S+=i  \n",
    "\n",
    "   return S\n",
    "sum((8, 2, 3, 0, 7)) "
   ]
  },
  {
   "cell_type": "code",
   "execution_count": 20,
   "metadata": {},
   "outputs": [
    {
     "data": {
      "text/plain": [
       "-336"
      ]
     },
     "execution_count": 20,
     "metadata": {},
     "output_type": "execute_result"
    }
   ],
   "source": [
    "#3. Write a Python function to multiply all the numbers in a list.\n",
    "def Multiple(x):\n",
    "    M=1\n",
    "    for j in x:\n",
    "        M*=j\n",
    "    return M\n",
    "Multiple((8, 2, 3, -1, 7))"
   ]
  },
  {
   "cell_type": "code",
   "execution_count": 23,
   "metadata": {},
   "outputs": [
    {
     "data": {
      "text/plain": [
       "'1234abcd'"
      ]
     },
     "execution_count": 23,
     "metadata": {},
     "output_type": "execute_result"
    }
   ],
   "source": [
    "#4. Write a Python program to reverse a string.\n",
    "def Reverse(STR):\n",
    "    reversed(STR)\n",
    "    return (STR)\n",
    "Reverse(\"1234abcd\")\n",
    "    "
   ]
  },
  {
   "cell_type": "code",
   "execution_count": 24,
   "metadata": {},
   "outputs": [
    {
     "name": "stdout",
     "output_type": "stream",
     "text": [
      "dcba4321\n"
     ]
    }
   ],
   "source": [
    "#4.\n",
    "def string_reverse(str1):\n",
    "   rstr1 = ''\n",
    "   index = len(str1)\n",
    "   while index > 0:\n",
    "        rstr1 += str1[index - 1]\n",
    "        index = index - 1\n",
    "   return rstr1\n",
    "\n",
    "print(string_reverse('1234abcd'))\n"
   ]
  },
  {
   "cell_type": "code",
   "execution_count": 28,
   "metadata": {},
   "outputs": [
    {
     "name": "stdout",
     "output_type": "stream",
     "text": [
      "720\n"
     ]
    }
   ],
   "source": [
    "#5.Write a Python function to calculate the factorial \n",
    "# of a number (a non-negative integer). The function accepts the number as an argument.\n",
    "def Factorial(n):\n",
    "    if n==0 or n==1:\n",
    "        return 1  \n",
    "    return n*Factorial(n-1)\n",
    "print (Factorial(6))   \n"
   ]
  },
  {
   "cell_type": "code",
   "execution_count": 32,
   "metadata": {},
   "outputs": [
    {
     "name": "stdout",
     "output_type": "stream",
     "text": [
      "10 is outside the given range\n"
     ]
    }
   ],
   "source": [
    "#6. Write a Python function to check whether a number falls within a given range.\n",
    "def test_range(x):\n",
    "    if x in range(1,10):\n",
    "        print(f\"{x} is inside the given range\") \n",
    "        #print(\"%s is inside the given range\" % str(x))\n",
    "    else:\n",
    "        print(f\"{x} is outside the given range\")\n",
    "test_range(10)\n"
   ]
  },
  {
   "cell_type": "code",
   "execution_count": 35,
   "metadata": {},
   "outputs": [
    {
     "name": "stdout",
     "output_type": "stream",
     "text": [
      "Number of uppercase letters: 3 \n",
      "Number of lowercase letters: 13\n"
     ]
    }
   ],
   "source": [
    "#7.Write a Python function that accepts a string and counts the number of upper and lower case letters.\n",
    "def Count_upper_lower(STR):\n",
    "    upper=0\n",
    "    lower=0\n",
    "    for char in STR:\n",
    "        if char.isupper():\n",
    "            upper+=1\n",
    "        elif char.islower():\n",
    "            lower+=1\n",
    "        else:\n",
    "            pass\n",
    "    return print(f\"Number of uppercase letters: {upper} \\nNumber of lowercase letters: {lower}\")\n",
    "\n",
    "Count_upper_lower('The quick Brown Fox')        "
   ]
  },
  {
   "cell_type": "code",
   "execution_count": 41,
   "metadata": {},
   "outputs": [
    {
     "data": {
      "text/plain": [
       "[1, 2, 3, 4, 5]"
      ]
     },
     "execution_count": 41,
     "metadata": {},
     "output_type": "execute_result"
    }
   ],
   "source": [
    "#8. Write a Python function that takes a list and returns a \n",
    "# new list with distinct elements from the first list.\n",
    "def distinct_element(list):\n",
    "    for i in list:\n",
    "        if list.count(i)>1:\n",
    "            for j in range(1, list.count(i)): \n",
    "               list.remove(i)\n",
    "    return list\n",
    "distinct_element([1,2,2,3,3,3,3,4,5])"
   ]
  },
  {
   "cell_type": "code",
   "execution_count": 48,
   "metadata": {},
   "outputs": [
    {
     "name": "stdout",
     "output_type": "stream",
     "text": [
      "102 is not prime\n"
     ]
    }
   ],
   "source": [
    "#9.Write a Python function that takes a number as a parameter and checks whether the number is prime or not.\n",
    "#Note : A prime number (or a prime) is a natural number greater than 1 and that\\\n",
    "#  has no positive divisors other than 1 and itself.\n",
    "def Check_Prime(n):\n",
    "    if n==1:\n",
    "       return print(f\"{n} is not prime\")\n",
    "    elif n==2:\n",
    "       return print(f\"{n} is prime\")\n",
    "    else:\n",
    "        for i in range (2, n):\n",
    "           if n%i==0:\n",
    "              return print(f\"{n} is not prime\")\n",
    "           else: \n",
    "              return print(f\"{n} is prime\")\n",
    "Check_Prime(102)"
   ]
  },
  {
   "cell_type": "code",
   "execution_count": 49,
   "metadata": {},
   "outputs": [
    {
     "data": {
      "text/plain": [
       "[2, 4, 6, 8]"
      ]
     },
     "execution_count": 49,
     "metadata": {},
     "output_type": "execute_result"
    }
   ],
   "source": [
    "#10. Write a Python program to print the even numbers from a given list.\n",
    "def Test_even(list):\n",
    "    list1=[]\n",
    "    for i in list:\n",
    "        if i%2==0:\n",
    "            list1.append(i)\n",
    "    return list1\n",
    "\n",
    "Test_even([1, 2, 3, 4, 5, 6, 7, 8, 9])"
   ]
  },
  {
   "cell_type": "code",
   "execution_count": 145,
   "metadata": {},
   "outputs": [
    {
     "name": "stdout",
     "output_type": "stream",
     "text": [
      "False\n"
     ]
    }
   ],
   "source": [
    "#11.Write a Python function to check whether a number is \"Perfect\" or not.\n",
    "def perfect_number(n):\n",
    "    s=0\n",
    "    for x in range(1,n):\n",
    "        if n%x==0:\n",
    "            s+=x\n",
    "    return s==n\n",
    "print(perfect_number(11))    \n",
    "    "
   ]
  },
  {
   "cell_type": "code",
   "execution_count": 149,
   "metadata": {},
   "outputs": [
    {
     "name": "stdout",
     "output_type": "stream",
     "text": [
      "True\n"
     ]
    }
   ],
   "source": [
    "#12.Write a Python function that checks whether a passed string is a palindrome or not.\n",
    "def palindrome(str):\n",
    "    return str==\"\".join(reversed(str))\n",
    "print(palindrome('madam'))\n",
    "    "
   ]
  },
  {
   "cell_type": "code",
   "execution_count": 151,
   "metadata": {},
   "outputs": [
    {
     "name": "stdout",
     "output_type": "stream",
     "text": [
      "[1]\n",
      "[1, 1]\n",
      "[1, 2, 1]\n",
      "[1, 3, 3, 1]\n",
      "[1, 4, 6, 4, 1]\n",
      "[1, 5, 10, 10, 5, 1]\n"
     ]
    },
    {
     "data": {
      "text/plain": [
       "True"
      ]
     },
     "execution_count": 151,
     "metadata": {},
     "output_type": "execute_result"
    }
   ],
   "source": [
    "#13.Write a Python function that prints out the first n rows of Pascal's triangle.\n",
    "def pascal_triangle(n):\n",
    "     row=[1]\n",
    "     y=[0]\n",
    "     for x in range(max(n,0)):\n",
    "          print(row)\n",
    "          row=[l+r for l, r in zip(row+y, y+row) ]\n",
    "     return n>=1   \n",
    "   \n",
    "pascal_triangle(6)\n",
    "\n",
    "\n"
   ]
  },
  {
   "cell_type": "code",
   "execution_count": 152,
   "metadata": {},
   "outputs": [
    {
     "name": "stdout",
     "output_type": "stream",
     "text": [
      "True\n"
     ]
    }
   ],
   "source": [
    "#14.Write a  Python function to check whether a string is a pangram or not.\n",
    "import string\n",
    "import sys\n",
    "def ispangram(str1, alphabet=string.ascii_lowercase):\n",
    "    alphaset=set(alphabet)\n",
    "    str_set=set(str1.lower())\n",
    "    return alphaset<=str_set\n",
    "print(ispangram('The quick brown fox jumps over the lazy dog'))\n"
   ]
  },
  {
   "cell_type": "code",
   "execution_count": 153,
   "metadata": {},
   "outputs": [
    {
     "data": {
      "text/plain": [
       "'black-green-red-white-yellow'"
      ]
     },
     "execution_count": 153,
     "metadata": {},
     "output_type": "execute_result"
    }
   ],
   "source": [
    "#15. Write a Python program that accepts a hyphen-separated sequence of words as input and prints the words in a hyphen-separated sequence after sorting them alphabetically.\n",
    "def Sorting(str):\n",
    "    list1=str.split(\"-\")\n",
    "    list2=sorted(list1)\n",
    "    return \"-\".join(list2)\n",
    "Sorting('green-red-yellow-black-white')\n",
    "   "
   ]
  },
  {
   "cell_type": "code",
   "execution_count": 155,
   "metadata": {},
   "outputs": [
    {
     "name": "stdout",
     "output_type": "stream",
     "text": [
      "[1, 4, 9, 16, 25, 36, 49, 64, 81, 100, 121, 144, 169, 196, 225, 256, 289, 324, 361, 400, 441, 484, 529, 576, 625, 676, 729, 784, 841, 900]\n"
     ]
    }
   ],
   "source": [
    "#16.Write a Python function to create and print a list where the values are the squares of numbers between 1 and 30 (both included).\n",
    "def SQR():\n",
    "    list1=[]\n",
    "    for i in range(1,31):\n",
    "         list1.append(i*i)\n",
    "    return print(list1)\n",
    "SQR()"
   ]
  },
  {
   "cell_type": "code",
   "execution_count": 162,
   "metadata": {},
   "outputs": [
    {
     "name": "stdout",
     "output_type": "stream",
     "text": [
      "<b><i><u>hello world</u></i></b>\n"
     ]
    }
   ],
   "source": [
    "#17.Write a Python program to create a chain of function decorators (bold, italic, underline etc.).\n",
    "def make_bold(fn):\n",
    "    def wrapped():\n",
    "        return \"<b>\"+fn()+\"</b>\"\n",
    "    return wrapped\n",
    "def make_italic(fn):\n",
    "    def wrapped():\n",
    "        return \"<i>\"+fn()+\"</i>\"\n",
    "    return wrapped\n",
    "make_italic('Hello')\n",
    "def make_underline(fn):\n",
    "    def wrapped():\n",
    "        return \"<u>\"+fn()+\"</u>\"\n",
    "    return wrapped\n",
    "@make_bold\n",
    "@make_italic\n",
    "@make_underline\n",
    "def hello():\n",
    "    return \"hello world\"\n",
    "print(hello())"
   ]
  },
  {
   "cell_type": "code",
   "execution_count": 163,
   "metadata": {},
   "outputs": [
    {
     "name": "stdout",
     "output_type": "stream",
     "text": [
      "Hello world\n",
      "Addition of 4 and 6 is: 10\n"
     ]
    }
   ],
   "source": [
    "#18.Write a Python program to execute a string containing  Python code.\n",
    "code='print(\"Hello world\")'\n",
    "code1='''\n",
    "def Add(x,y):\n",
    "    return x+y\n",
    "print(f'Addition of 4 and 6 is: {Add(4,6)}')'''\n",
    "exec(code)\n",
    "exec(code1)\n"
   ]
  },
  {
   "cell_type": "code",
   "execution_count": 164,
   "metadata": {},
   "outputs": [
    {
     "name": "stdout",
     "output_type": "stream",
     "text": [
      "125\n"
     ]
    }
   ],
   "source": [
    "#19.Write a Python program to access a function inside a function.\n",
    "def myfunc(x):\n",
    "    def Power(y):\n",
    "        nonlocal x\n",
    "        return x**y\n",
    "    return Power\n",
    "a=myfunc(5)\n",
    "print(a(3))"
   ]
  },
  {
   "cell_type": "code",
   "execution_count": 167,
   "metadata": {},
   "outputs": [
    {
     "name": "stdout",
     "output_type": "stream",
     "text": [
      "Hello Python\n",
      "3\n"
     ]
    }
   ],
   "source": [
    "#20.Write a Python program to detect the number of local variables declared in a function.\n",
    "def my_function():\n",
    "    a='Hello'\n",
    "    b=' Python'\n",
    "    c=a+b\n",
    "    print(c)\n",
    "my_function()\n",
    "print(my_function.__code__.co_nlocals)"
   ]
  },
  {
   "cell_type": "code",
   "execution_count": 168,
   "metadata": {},
   "outputs": [
    {
     "name": "stdout",
     "output_type": "stream",
     "text": [
      "4.0\n",
      "10.0\n",
      "158.42979517754858\n"
     ]
    }
   ],
   "source": [
    "#21.Write a Python program that invokes a function after a specified period of time.\n",
    "from time import sleep\n",
    "import math\n",
    "def delay(fn, ms, *args):\n",
    " sleep(ms / 1000)\n",
    " return fn(*args)\n",
    "print(delay(lambda x: math.sqrt(x), 100, 16))\n",
    "print(delay(lambda x: math.sqrt(x), 1000, 100))\n",
    "print(delay(lambda x: math.sqrt(x), 2000, 25100))\n"
   ]
  },
  {
   "cell_type": "markdown",
   "metadata": {},
   "source": [
    "Lambda"
   ]
  },
  {
   "cell_type": "code",
   "execution_count": 51,
   "metadata": {},
   "outputs": [
    {
     "name": "stdout",
     "output_type": "stream",
     "text": [
      "38\n",
      "20\n"
     ]
    }
   ],
   "source": [
    "#1. Write a Python program to create a lambda function that adds 15 to a given number \n",
    "# passed in as an argument, also create a lambda function that multiplies argument x with \n",
    "# argument y and prints the result.\n",
    "add=lambda x: x+15\n",
    "print(add(23))\n",
    "Multp=lambda x,y: x*y\n",
    "print(Multp(4,5))"
   ]
  },
  {
   "cell_type": "code",
   "execution_count": 55,
   "metadata": {},
   "outputs": [
    {
     "name": "stdout",
     "output_type": "stream",
     "text": [
      "double of the number 21 is 42\n"
     ]
    }
   ],
   "source": [
    "#2. Write a Python program to create a function that takes one argument, \n",
    "# and that argument will be multiplied with an unknown given number.\n",
    "def new_func(n):\n",
    "    return lambda x: x*n\n",
    "result=new_func(2)\n",
    "print(f\"double of the number 21 is {result(21)}\")\n"
   ]
  },
  {
   "cell_type": "code",
   "execution_count": 58,
   "metadata": {},
   "outputs": [
    {
     "name": "stdout",
     "output_type": "stream",
     "text": [
      "Original list of tuples:\n",
      "[('English', 88), ('Science', 90), ('Maths', 97), ('Social sciences', 82)]\n",
      "Sorting the List of Tuples:\n",
      "[('Social sciences', 82), ('English', 88), ('Science', 90), ('Maths', 97)]\n"
     ]
    }
   ],
   "source": [
    "#3.Write a Python program to sort a list of tuples using Lambda.\n",
    "list_of_tuples=[('English', 88), ('Science', 90), ('Maths', 97), ('Social sciences', 82)]\n",
    "print('Original list of tuples:')\n",
    "print(list_of_tuples)\n",
    "list_of_tuples.sort(key=lambda x: x[1])\n",
    "print('Sorting the List of Tuples:')\n",
    "print(list_of_tuples)"
   ]
  },
  {
   "cell_type": "code",
   "execution_count": 64,
   "metadata": {},
   "outputs": [
    {
     "name": "stdout",
     "output_type": "stream",
     "text": [
      "Original list of dictionaries :\n",
      "[{'make': 'Nokia', 'model': 216, 'color': 'Black'}, {'make': 'Mi Max', 'model': '2', 'color': 'Gold'}, {'make': 'Samsung', 'model': 7, 'color': 'Blue'}]\n",
      "\n",
      "Sorting the List of dictionaries :\n",
      "[{'make': 'Nokia', 'model': 216, 'color': 'Black'}, {'make': 'Samsung', 'model': 7, 'color': 'Blue'}, {'make': 'Mi Max', 'model': '2', 'color': 'Gold'}]\n"
     ]
    }
   ],
   "source": [
    "#4.Write a Python program to sort a list of dictionaries using Lambda.\n",
    "print('Original list of dictionaries :')\n",
    "Original_list=[{'make': 'Nokia', 'model': 216, 'color': 'Black'}, {'make': 'Mi Max', 'model': '2', 'color': 'Gold'}, {'make': 'Samsung', 'model': 7, 'color': 'Blue'}]\n",
    "print(Original_list)\n",
    "print('\\nSorting the List of dictionaries :')\n",
    "Original_list.sort(key=lambda x: x['color'])\n",
    "print(Original_list)"
   ]
  },
  {
   "cell_type": "code",
   "execution_count": 68,
   "metadata": {},
   "outputs": [
    {
     "name": "stdout",
     "output_type": "stream",
     "text": [
      "Original list of integers:\n",
      "[1, 2, 3, 4, 5, 6, 7, 8, 9, 10]\n",
      "Even numbers from the said list:\n",
      "[2, 4, 6, 8, 10]\n",
      "Odd numbers from the said list:\n",
      "[1, 3, 5, 7, 9]\n"
     ]
    }
   ],
   "source": [
    "#5.Write a Python program to filter a list of integers using Lambda.\n",
    "print(\"Original list of integers:\")\n",
    "Original_list_of_integers=[1, 2, 3, 4, 5, 6, 7, 8, 9, 10]\n",
    "print(Original_list_of_integers)\n",
    "print(\"Even numbers from the said list:\")\n",
    "Even_numbers=list(filter(lambda x:x%2==0, Original_list_of_integers))\n",
    "print(Even_numbers)\n",
    "print(\"Odd numbers from the said list:\")\n",
    "Odd_numbers=list(filter(lambda x:x%2==1, Original_list_of_integers))\n",
    "print(Odd_numbers)"
   ]
  },
  {
   "cell_type": "code",
   "execution_count": 72,
   "metadata": {},
   "outputs": [
    {
     "name": "stdout",
     "output_type": "stream",
     "text": [
      "Original list of integers:\n",
      "[1, 2, 3, 4, 5, 6, 7, 8, 9, 10]\n",
      "Square every number of the said list:\n",
      "[1, 4, 9, 16, 25, 36, 49, 64, 81, 100]\n",
      "Cube every number of the said list:\n",
      "[1, 8, 27, 64, 125, 216, 343, 512, 729, 1000]\n"
     ]
    }
   ],
   "source": [
    "#6.Write a Python program to square and cube every number in a given list of integers using Lambda.\n",
    "print(\"Original list of integers:\")\n",
    "numbers=[1, 2, 3, 4, 5, 6, 7, 8, 9, 10]\n",
    "print(numbers)\n",
    "print(\"Square every number of the said list:\")\n",
    "sqr=list(map(lambda x: x**2,numbers))\n",
    "print(sqr)\n",
    "print(\"Cube every number of the said list:\")\n",
    "cube=list(map(lambda x:x**3,numbers))\n",
    "print(cube)\n",
    "\n"
   ]
  },
  {
   "cell_type": "code",
   "execution_count": 76,
   "metadata": {},
   "outputs": [
    {
     "name": "stdout",
     "output_type": "stream",
     "text": [
      "True\n",
      "False\n"
     ]
    }
   ],
   "source": [
    "#7.Write a Python program to find if a given string starts with a given character using Lambda.\n",
    "starts_with=lambda x: True if x.startswith(\"M\") else False\n",
    "print(starts_with(\"MAAB innovation\"))\n",
    "print(starts_with(\"Python\"))\n"
   ]
  },
  {
   "cell_type": "code",
   "execution_count": 78,
   "metadata": {},
   "outputs": [
    {
     "name": "stdout",
     "output_type": "stream",
     "text": [
      "2025-01-21 10:11:28.089640\n",
      "2025\n",
      "1\n",
      "21\n",
      "10:11:28.089640\n"
     ]
    }
   ],
   "source": [
    "#8.Write a Python program to extract year, month, date and time using Lambda.\n",
    "import datetime\n",
    "now=datetime.datetime.now()\n",
    "print(now)\n",
    "year=lambda x: x.year\n",
    "month=lambda x: x.month\n",
    "day=lambda x: x.day\n",
    "time=lambda x: x.time()\n",
    "print(year(now))\n",
    "print(month(now))\n",
    "print(day(now))\n",
    "print(time(now))\n",
    "\n"
   ]
  },
  {
   "cell_type": "code",
   "execution_count": 90,
   "metadata": {},
   "outputs": [
    {
     "name": "stdout",
     "output_type": "stream",
     "text": [
      "True\n",
      "True\n",
      "True\n",
      "True\n",
      "False\n",
      "True\n"
     ]
    }
   ],
   "source": [
    "#9.Write a Python program to check whether a given string is a number or not using Lambda.\n",
    "check_number=lambda x: x.replace(\".\",\"\",1).isdigit()\n",
    "check_number1=lambda y: check_number(y[1:]) if y[0]=='-' else check_number(y)\n",
    "\n",
    "print(check_number1('26587'))\n",
    "print(check_number1('4.2365'))\n",
    "print(check_number1('-12547'))\n",
    "print(check_number1('00'))\n",
    "print(check_number1('A001'))\n",
    "print(check_number1('001'))"
   ]
  },
  {
   "cell_type": "code",
   "execution_count": 91,
   "metadata": {},
   "outputs": [
    {
     "name": "stdout",
     "output_type": "stream",
     "text": [
      "Fibonacci series upto 2:\n",
      "[0, 1]\n",
      "Fibonacci series upto 5:\n",
      "[0, 1, 1, 2, 3]\n",
      "Fibonacci series upto 6:\n",
      "[0, 1, 1, 2, 3, 5]\n",
      "Fibonacci series upto 9:\n",
      "[0, 1, 1, 2, 3, 5, 8, 13, 21]\n"
     ]
    }
   ],
   "source": [
    "#10.Write a Python program to create Fibonacci series up to n using Lambda.\n",
    "from functools import reduce\n",
    "Fibonacci_nummbers=lambda n: reduce(lambda x,_: x+[x[-1]+x[-2]],range(n-2),[0,1] )\n",
    "print(\"Fibonacci series upto 2:\")\n",
    "print(Fibonacci_nummbers(2))\n",
    "print(\"Fibonacci series upto 5:\")\n",
    "print(Fibonacci_nummbers(5))\n",
    "print(\"Fibonacci series upto 6:\")\n",
    "print(Fibonacci_nummbers(6))\n",
    "print(\"Fibonacci series upto 9:\")\n",
    "print(Fibonacci_nummbers(9))\n"
   ]
  },
  {
   "cell_type": "code",
   "execution_count": 93,
   "metadata": {},
   "outputs": [
    {
     "name": "stdout",
     "output_type": "stream",
     "text": [
      "Original arrays:\n",
      "[1, 2, 3, 5, 7, 8, 9, 10]\n",
      "[1, 2, 4, 8, 9]\n",
      "Intersection of the said arrays: [1, 2, 8, 9]\n"
     ]
    }
   ],
   "source": [
    "#11. Write a  Python program to find the intersection of two given arrays using Lambda.\n",
    "print(\"Original arrays:\")\n",
    "Array1=[1, 2, 3, 5, 7, 8, 9, 10]\n",
    "Array2=[1, 2, 4, 8, 9]\n",
    "print(Array1)\n",
    "print(Array2)\n",
    "Intersection=list(filter(lambda x: x in Array1, Array2))\n",
    "print(f'Intersection of the said arrays: {Intersection}')\n"
   ]
  },
  {
   "cell_type": "code",
   "execution_count": 104,
   "metadata": {},
   "outputs": [
    {
     "name": "stdout",
     "output_type": "stream",
     "text": [
      "Original arrays:\n",
      "[-1, 2, -3, 5, 7, 8, 9, -10, 0]\n",
      "Rearrange positive and negative numbers of the said array:\n",
      "[2, 5, 7, 8, 9, 0, -10, -3, -1]\n"
     ]
    }
   ],
   "source": [
    "#12.Write a Python program to rearrange positive and negative numbers in a given array using Lambda.\n",
    "print(\"Original arrays:\")\n",
    "Array=[-1, 2, -3, 5, 7, 8, 9, -10, 0]\n",
    "print(Array)\n",
    "Rearrange=sorted(Array, key=lambda x: 0 if x==0 else -1/x )\n",
    "print(\"Rearrange positive and negative numbers of the said array:\")\n",
    "print(Rearrange)"
   ]
  },
  {
   "cell_type": "code",
   "execution_count": 105,
   "metadata": {},
   "outputs": [
    {
     "name": "stdout",
     "output_type": "stream",
     "text": [
      "Original arrays:\n",
      "Numbers\n",
      "Number of even numbers in the above array: 3\n",
      "Number of odd numbers in the above array: 5\n"
     ]
    }
   ],
   "source": [
    "#13.Write a Python program to count the even and odd numbers in a given array of integers using Lambda.\n",
    "print(\"Original arrays:\")\n",
    "Numbers=[1, 2, 3, 5, 7, 8, 9, 10]\n",
    "print(\"Numbers\")\n",
    "Count_even=len(list(filter(lambda x: (x%2==0), Numbers)))\n",
    "Count_odd=len(list(filter(lambda x: (x%2==1), Numbers)))\n",
    "print(f\"Number of even numbers in the above array: {Count_even}\")\n",
    "print(f\"Number of odd numbers in the above array: {Count_odd}\")\n"
   ]
  },
  {
   "cell_type": "code",
   "execution_count": 111,
   "metadata": {},
   "outputs": [
    {
     "name": "stdout",
     "output_type": "stream",
     "text": [
      "['Monday', 'Friday', 'Sunday']\n",
      "Monday\n",
      "Friday\n",
      "Sunday\n"
     ]
    }
   ],
   "source": [
    "#14.Write a Python program to filter a given list to determine if the values in the list have a length of 6 using Lambda.\n",
    "list1=['Monday', 'Tuesday', 'Wednesday', 'Thursday', 'Friday', 'Saturday', 'Sunday']\n",
    "check_len=list(filter(lambda x: x if len(x)==6 else \"\", list1))\n",
    "print (check_len)\n",
    "for i in check_len:\n",
    "    print(i)\n"
   ]
  },
  {
   "cell_type": "code",
   "execution_count": 115,
   "metadata": {},
   "outputs": [
    {
     "name": "stdout",
     "output_type": "stream",
     "text": [
      "Original list:\n",
      "[1, 2, 3]\n",
      "[4, 5, 6]\n",
      "\n",
      "Result: after adding two lists\n",
      "[5, 7, 9]\n"
     ]
    }
   ],
   "source": [
    "#15.Write a Python program to add two given lists using map and lambda.\n",
    "print(\"Original list:\")\n",
    "list1=[1, 2, 3]\n",
    "list2=[4, 5, 6]\n",
    "print(list1)\n",
    "print(list2)\n",
    "Add=list(map(lambda x,y: x+y,list1,list2))\n",
    "print(\"\\nResult: after adding two lists\")\n",
    "print(Add)"
   ]
  },
  {
   "cell_type": "code",
   "execution_count": 116,
   "metadata": {},
   "outputs": [
    {
     "name": "stdout",
     "output_type": "stream",
     "text": [
      "\n",
      "Names and Grades of all students:\n",
      "[['S ROY', 1.0], ['B BOSE', 3.0], ['N KAR', 2.0], ['C DUTTA', 1.0], ['G GHOSH', 1.0]]\n",
      "\n",
      "Second lowest grade:  2.0\n",
      "\n",
      "Names:\n",
      "N KAR\n"
     ]
    }
   ],
   "source": [
    "#16.Write a Python program to find the second lowest total marks of any student(s) from the given names and marks of each student using lists and lambda. Input the number of students, the names and grades of each student.\n",
    "# Initialize empty lists and variables\n",
    "students = []  # List to store student names and scores\n",
    "sec_name = []  # List to store names of students with the second lowest grade\n",
    "second_low = 0  # Variable to hold the second lowest grade\n",
    "n = int(input(\"Input number of students: \"))  # Accept user input for the number of students\n",
    "\n",
    "# Iterate 'n' times to get names and scores of students and store them in 'students' list\n",
    "for _ in range(n):\n",
    "   s_name = input(\"Name: \")  # Accept user input for student name\n",
    "   score = float(input(\"Grade: \"))  # Accept user input for student score\n",
    "   students.append([s_name, score])  # Append student name and score to 'students' list\n",
    "\n",
    "# Display names and grades of all students entered by the user\n",
    "print(\"\\nNames and Grades of all students:\")\n",
    "print(students)\n",
    "\n",
    "# Sort the 'students' list based on grades in ascending order\n",
    "order = sorted(students, key=lambda x: int(x[1]))\n",
    "\n",
    "# Find the second lowest grade among the students\n",
    "for i in range(n):\n",
    "   if order[i][1] != order[0][1]:  # Check if the grade is not equal to the lowest grade\n",
    "       second_low = order[i][1]  # Set second_low as the second lowest grade found\n",
    "       break\n",
    "\n",
    "# Display the second lowest grade\n",
    "print(\"\\nSecond lowest grade: \", second_low)\n",
    "\n",
    "# Find names of students with the second lowest grade and store them in 'sec_student_name' list\n",
    "sec_student_name = [x[0] for x in order if x[1] == second_low]\n",
    "sec_student_name.sort()  # Sort the names of students with the second lowest grade\n",
    "\n",
    "# Display the names of students with the second lowest grade\n",
    "print(\"\\nNames:\")\n",
    "for s_name in sec_student_name:\n",
    "   print(s_name) \n"
   ]
  },
  {
   "cell_type": "code",
   "execution_count": 118,
   "metadata": {},
   "outputs": [
    {
     "name": "stdout",
     "output_type": "stream",
     "text": [
      "Orginal list:\n",
      "List_of_numbers\n",
      "Numbers of the above list divisible by nineteen or thirteen:\n",
      "[19, 65, 57, 39, 152, 190]\n"
     ]
    }
   ],
   "source": [
    "#17.Write a Python program to find numbers divisible by nineteen or thirteen from a list of numbers using Lambda.\n",
    "print(\"Orginal list:\")\n",
    "List_of_numbers=[19, 65, 57, 39, 152, 639, 121, 44, 90, 190]\n",
    "print(\"List_of_numbers\")\n",
    "check_19_13=list(filter(lambda x: (x%13==0 or x%19==0),List_of_numbers))\n",
    "print(\"Numbers of the above list divisible by nineteen or thirteen:\")\n",
    "print(check_19_13)"
   ]
  },
  {
   "cell_type": "code",
   "execution_count": 126,
   "metadata": {},
   "outputs": [
    {
     "name": "stdout",
     "output_type": "stream",
     "text": [
      "Orginal list of strings:\n",
      "['php', '121', 'w3r', 'Python', 'abcd', 'Java', 'aaa']\n",
      "List of palindromes:\n",
      "['php', '121', 'aaa']\n"
     ]
    }
   ],
   "source": [
    "#18. Write a Python program to find palindromes in a given list of strings using Lambda.\n",
    "print('Orginal list of strings:')\n",
    "list_of_strings=['php','121', 'w3r', 'Python', 'abcd', 'Java', 'aaa']\n",
    "print(list_of_strings)\n",
    "result=list(filter(lambda x: (x==\"\".join(reversed(x))),list_of_strings))\n",
    "print('List of palindromes:')\n",
    "print(result)"
   ]
  },
  {
   "cell_type": "code",
   "execution_count": 131,
   "metadata": {},
   "outputs": [
    {
     "name": "stdout",
     "output_type": "stream",
     "text": [
      "Orginal list of strings:\n",
      "['bcda', 'abce', 'cbda', 'cbea', 'adcb']\n",
      "Anagrams of 'abcd' in the above string:\n",
      "['bcda', 'cbda', 'adcb']\n"
     ]
    }
   ],
   "source": [
    "#19.Write a Python program to find all anagrams of a string in a given list of strings using Lambda.\n",
    "from collections import Counter\n",
    "print(\"Orginal list of strings:\")\n",
    "list_of_strings=['bcda', 'abce', 'cbda', 'cbea', 'adcb']\n",
    "str='abcd'\n",
    "print(list_of_strings)\n",
    "result=list(filter(lambda x:(Counter(str)==Counter(x)),list_of_strings))\n",
    "print(\"Anagrams of 'abcd' in the above string:\")\n",
    "print(result)\n"
   ]
  },
  {
   "cell_type": "code",
   "execution_count": 139,
   "metadata": {},
   "outputs": [
    {
     "name": "stdout",
     "output_type": "stream",
     "text": [
      "Original string:\n",
      "Numbers in sorted form:\n",
      "56 87 "
     ]
    }
   ],
   "source": [
    "#20.Write a Python program to find the numbers in a given string and store them in a list. Afterward, display the numbers that are longer than the length of the list in sorted form. Use the lambda function to solve the problem.\n",
    "print(\"Original string:\")\n",
    "string='sdf 23 safs8 5 sdfsd8 sdfs 56 21s 87 fs 20 5'\n",
    "list1=string.split(' ')\n",
    "lenght=len(string)\n",
    "numbers=sorted([int(x) for x in list1 if x.isdigit()] )\n",
    "print('Numbers in sorted form:')\n",
    "for i in (filter(lambda x: x>lenght,numbers)):\n",
    "    print(i, end=\" \")\n"
   ]
  },
  {
   "cell_type": "code",
   "execution_count": 1,
   "metadata": {},
   "outputs": [
    {
     "name": "stdout",
     "output_type": "stream",
     "text": [
      "Original list: [2, 4, 6, 9, 11]\n",
      "Given number: 3\n",
      "Result:\n",
      "6 12 18 27 33\n"
     ]
    }
   ],
   "source": [
    "#21. Write a Python program that multiplies each number in a list with a given number using lambda functions. Print the results.\n",
    "numbers=[2, 4, 6, 9, 11]\n",
    "n=3\n",
    "print(f\"Original list: {numbers}\")\n",
    "print(f'Given number: {n}')\n",
    "result=list(map(lambda x:x*n,numbers))\n",
    "print(\"Result:\")\n",
    "print(\" \".join(map(str,result)))\n"
   ]
  },
  {
   "cell_type": "code",
   "execution_count": 4,
   "metadata": {},
   "outputs": [
    {
     "name": "stdout",
     "output_type": "stream",
     "text": [
      "Result:\n",
      "16\n"
     ]
    }
   ],
   "source": [
    "#22.Write a Python program that sums the length of a list of names after removing those that start with lowercase letters. Use the lambda function.\n",
    "sample_list=['sally', 'Dylan', 'rebecca', 'Diana', 'Joanne', 'keith']\n",
    "new_list=list(filter(lambda x: x[0].isupper() , sample_list))\n",
    "print(\"Result:\")\n",
    "print(len(\"\".join(new_list)))"
   ]
  },
  {
   "cell_type": "code",
   "execution_count": 7,
   "metadata": {},
   "outputs": [
    {
     "name": "stdout",
     "output_type": "stream",
     "text": [
      "Original list: [2, 4, -6, -9, 11, -12, 14, -5, 17]\n",
      "Sum of the positive numbers: 48\n",
      "Sum of the negative numbers: -32\n"
     ]
    }
   ],
   "source": [
    "#23.Write a Python program to calculate the sum of the positive and negative numbers of a given list of numbers using the lambda function.\n",
    "Or_list=[2, 4, -6, -9, 11, -12, 14, -5, 17]\n",
    "print(f\"Original list: {Or_list}\")\n",
    "Sum_pos=sum(list(filter(lambda x: x>0, Or_list)))\n",
    "Sum_neg=sum(list(filter(lambda x: x<0, Or_list)))\n",
    "print(f\"Sum of the positive numbers: {Sum_pos}\")\n",
    "print(f\"Sum of the negative numbers: {Sum_neg}\")"
   ]
  },
  {
   "cell_type": "code",
   "execution_count": 10,
   "metadata": {},
   "outputs": [
    {
     "name": "stdout",
     "output_type": "stream",
     "text": [
      "[1, 2, 3, 4, 5, 6, 7, 8, 9, 11, 12, 15, 22, 24]\n"
     ]
    }
   ],
   "source": [
    "#24.Write a  Python program to find numbers within a given range where every number is divisible by every digit it contains.\n",
    "def divisible_by_digits(start_number, end_number):\n",
    "     sorted_list=[\n",
    "          i for i in range(start_number, end_number+1)\n",
    "          if not any(map(lambda x: int(x)==0 or i%int(x)!=0,str(i)))]\n",
    "     return sorted_list\n",
    "print(divisible_by_digits(1,30))\n",
    "       "
   ]
  },
  {
   "cell_type": "code",
   "execution_count": 11,
   "metadata": {},
   "outputs": [
    {
     "name": "stdout",
     "output_type": "stream",
     "text": [
      "Original number: 12\n",
      "Next bigger number: 21\n",
      "\n",
      "Original number: 10\n",
      "Next bigger number: False\n",
      "\n",
      "Original number: 201\n",
      "Next bigger number: 210\n",
      "\n",
      "Original number: 102\n",
      "Next bigger number: 120\n",
      "\n",
      "Original number: 445\n",
      "Next bigger number: 454\n"
     ]
    }
   ],
   "source": [
    "#25.Write a Python program to create the next bigger number by rearranging the digits of a given number.\n",
    "def rearrange_bigger(n):\n",
    "    # Convert the number 'n' into a list of its digits represented as strings\n",
    "    nums = list(str(n))\n",
    "    \n",
    "    # Iterate through the digits from the second-to-last to the first digit\n",
    "    for i in range(len(nums) - 2, -1, -1):\n",
    "        # Check if the current digit is less than the next digit\n",
    "        if nums[i] < nums[i + 1]:\n",
    "            # Slice the list from the current index to the end and store it in 'z'\n",
    "            z = nums[i:]\n",
    "            \n",
    "            # Find the smallest digit greater than the current digit\n",
    "            y = min(filter(lambda x: x > z[0], z))\n",
    "            \n",
    "            # Remove 'y' from the list 'z'\n",
    "            z.remove(y)\n",
    "            \n",
    "            # Sort the remaining elements in 'z'\n",
    "            z.sort()\n",
    "            \n",
    "            # Rearrange the digits in 'nums' to form the next bigger number\n",
    "            nums[i:] = [y] + z\n",
    "            \n",
    "            # Convert the rearranged list of digits back into an integer and return it\n",
    "            return int(\"\".join(nums))\n",
    "    \n",
    "    # If no bigger number can be formed, return False\n",
    "    return False\n",
    "\n",
    "# Test cases to demonstrate the function's behavior with different input numbers\n",
    "\n",
    "n = 12\n",
    "print(\"Original number:\", n)\n",
    "print(\"Next bigger number:\", rearrange_bigger(n))\n",
    "\n",
    "n = 10\n",
    "print(\"\\nOriginal number:\", n)\n",
    "print(\"Next bigger number:\", rearrange_bigger(n))\n",
    "\n",
    "n = 201\n",
    "print(\"\\nOriginal number:\", n)\n",
    "print(\"Next bigger number:\", rearrange_bigger(n))\n",
    "\n",
    "n = 102\n",
    "print(\"\\nOriginal number:\", n)\n",
    "print(\"Next bigger number:\", rearrange_bigger(n))\n",
    "\n",
    "n = 445\n",
    "print(\"\\nOriginal number:\", n)\n",
    "print(\"Next bigger number:\", rearrange_bigger(n)) \n",
    "\n"
   ]
  },
  {
   "cell_type": "code",
   "execution_count": 13,
   "metadata": {},
   "outputs": [
    {
     "name": "stdout",
     "output_type": "stream",
     "text": [
      "Original list:\n",
      "[[0], [1, 3], [5, 7], [9, 11], [13, 15, 17]]\n",
      "List with maximum length of lists:(3, [13, 15, 17])\n",
      "List with minimum length of lists:(1, [0])\n"
     ]
    }
   ],
   "source": [
    "#26.Write a Python program to find a list with maximum and minimum length using lambda.\n",
    "print(\"Original list:\")\n",
    "new_list=[[0], [1, 3], [5, 7], [9, 11], [13, 15, 17]]\n",
    "print(new_list)\n",
    "MAX=max(new_list, key=lambda x:len(x))\n",
    "MIN=min(new_list, key=lambda x:len(x))\n",
    "\n",
    "print(f\"List with maximum length of lists:{(len(MAX),MAX)}\")\n",
    "\n",
    "print(f\"List with minimum length of lists:{(len(MIN),MIN)}\")"
   ]
  },
  {
   "cell_type": "code",
   "execution_count": 20,
   "metadata": {},
   "outputs": [
    {
     "name": "stdout",
     "output_type": "stream",
     "text": [
      "Original list:\n",
      "[['green', 'orange'], ['black', 'white'], ['white', 'black', 'orange']]\n",
      "After sorting each sublist of the said list of lists:\n",
      "[['green', 'orange'], ['black', 'white'], ['black', 'orange', 'white']]\n"
     ]
    }
   ],
   "source": [
    "#27:Write a Python program to sort each sublist of strings in a given list of lists using lambda.\n",
    "print(\"Original list:\")\n",
    "given_list=[['green', 'orange'], ['black', 'white'], ['white', 'black', 'orange']]\n",
    "print(given_list)\n",
    "sorted_list=[sorted(i, key=lambda x: x[0]) for i in given_list ]\n",
    "print(\"After sorting each sublist of the said list of lists:\")\n",
    "print(sorted_list)"
   ]
  },
  {
   "cell_type": "code",
   "execution_count": 6,
   "metadata": {},
   "outputs": [
    {
     "name": "stdout",
     "output_type": "stream",
     "text": [
      "Original list:\n",
      "[[2], [0], [1, 3], [0, 7], [9, 11], [13, 15, 17]]\n",
      "Sort the list of lists by length and value:\n",
      "[[[0], [2], [0, 7], [1, 3], [9, 11], [13, 15, 17]]]\n"
     ]
    }
   ],
   "source": [
    "#28.Write a Python program to sort a given list of lists by length and value using lambda.\n",
    "print(\"Original list:\")\n",
    "my_list=[[2], [0], [1, 3], [0, 7], [9, 11], [13, 15, 17]]\n",
    "print(my_list)\n",
    "print(\"Sort the list of lists by length and value:\")\n",
    "sorted_list=[sorted(my_list, key=lambda x: (len(x),x[0]))]\n",
    "print(sorted_list)"
   ]
  },
  {
   "cell_type": "code",
   "execution_count": 14,
   "metadata": {},
   "outputs": [
    {
     "name": "stdout",
     "output_type": "stream",
     "text": [
      "Original list:\n",
      "['Python', 10, 2, 4, 5, 'version']\n",
      "Maximum values in the said list using lambda:\n",
      "10\n"
     ]
    }
   ],
   "source": [
    "#29. Write a Python program to find the maximum value in a given heterogeneous list using lambda.\n",
    "print(\"Original list:\")\n",
    "my_list=['Python', 10, 2, 4, 5, 'version']\n",
    "print(my_list)\n",
    "print(\"Maximum values in the said list using lambda:\")\n",
    "Max_value=max(list(filter(lambda x: (isinstance(x,int)),my_list)))\n",
    "print(Max_value)"
   ]
  },
  {
   "cell_type": "code",
   "execution_count": 16,
   "metadata": {},
   "outputs": [
    {
     "name": "stdout",
     "output_type": "stream",
     "text": [
      "Original Matrix:\n",
      "[[1, 2, 3], [2, 4, 5], [1, 1, 1]]\n",
      "Sort the said matrix in ascending order according to the sum of its rows\n",
      "[[1, 1, 1], [1, 2, 3], [2, 4, 5]]\n"
     ]
    }
   ],
   "source": [
    "#30.Write a Python program to sort a given matrix in ascending order according to the sum of its rows using lambda.\n",
    "print(\"Original Matrix:\")\n",
    "Matrix=[[1, 2, 3], [2, 4, 5], [1, 1, 1]]\n",
    "print(Matrix)\n",
    "print(\"Sort the said matrix in ascending order according to the sum of its rows\")\n",
    "Sorting=sorted(Matrix,key=lambda x: sum(x))\n",
    "print(Sorting)"
   ]
  },
  {
   "cell_type": "code",
   "execution_count": null,
   "metadata": {},
   "outputs": [],
   "source": []
  }
 ],
 "metadata": {
  "kernelspec": {
   "display_name": "Python 3",
   "language": "python",
   "name": "python3"
  },
  "language_info": {
   "codemirror_mode": {
    "name": "ipython",
    "version": 3
   },
   "file_extension": ".py",
   "mimetype": "text/x-python",
   "name": "python",
   "nbconvert_exporter": "python",
   "pygments_lexer": "ipython3",
   "version": "3.12.8"
  }
 },
 "nbformat": 4,
 "nbformat_minor": 2
}
