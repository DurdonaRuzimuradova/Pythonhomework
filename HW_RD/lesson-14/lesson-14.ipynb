{
 "cells": [
  {
   "cell_type": "code",
   "execution_count": 1,
   "metadata": {},
   "outputs": [],
   "source": [
    "import json"
   ]
  },
  {
   "cell_type": "code",
   "execution_count": 27,
   "metadata": {},
   "outputs": [],
   "source": [
    "with open(\"actors.json\",\"r\") as file:\n",
    "    my_data=json.load(file)"
   ]
  },
  {
   "cell_type": "code",
   "execution_count": 4,
   "metadata": {},
   "outputs": [],
   "source": [
    "import os\n",
    "\n",
    "parent_folder = \"Project\" \n",
    "os.makedirs(\"Project\" , exist_ok=True)"
   ]
  },
  {
   "cell_type": "code",
   "execution_count": 28,
   "metadata": {},
   "outputs": [],
   "source": [
    "name_of_folders=[]\n",
    "for i in my_data:\n",
    "    name_of_folders.append(i['name'])\n",
    "\n",
    "for subfolder_name in name_of_folders:\n",
    "    subfolder_path=os.path.join(\"Project\", subfolder_name)\n",
    "    os.makedirs(subfolder_path, exist_ok=True)\n"
   ]
  },
  {
   "cell_type": "code",
   "execution_count": 26,
   "metadata": {},
   "outputs": [
    {
     "name": "stdout",
     "output_type": "stream",
     "text": [
      "[{'id': 1, 'name': 'Marlon Brando', 'birth_year': 1924, 'death_year': 2004, 'nationality': 'American'}, {'id': 2, 'name': 'Robert De Niro', 'birth_year': 1943, 'death_year': 'No info', 'nationality': 'American'}, {'id': 3, 'name': 'Al Pacino', 'birth_year': 1940, 'death_year': 'No info', 'nationality': 'American'}, {'id': 4, 'name': 'Jack Nicholson', 'birth_year': 1937, 'death_year': 'No info', 'nationality': 'American'}, {'id': 5, 'name': 'Sean Connery', 'birth_year': 1930, 'death_year': 2020, 'nationality': 'Scottish'}, {'id': 6, 'name': 'Russell Crowe', 'birth_year': 1964, 'death_year': 'No info', 'nationality': 'New Zealand'}, {'id': 7, 'name': 'Robert Duvall', 'birth_year': 1931, 'death_year': 'No info', 'nationality': 'American'}, {'id': 8, 'name': 'Tom Hanks', 'birth_year': 1956, 'death_year': 'No info', 'nationality': 'American'}, {'id': 9, 'name': 'Denzel Washington', 'birth_year': 1954, 'death_year': 'No info', 'nationality': 'American'}, {'id': 10, 'name': 'Shah Rukh Khan', 'birth_year': 1965, 'death_year': 'No info', 'nationality': 'Indian'}, {'id': 11, 'name': 'Anthony Hopkins', 'birth_year': 1937, 'death_year': 'No info', 'nationality': 'British'}, {'id': 12, 'name': 'Dustin Hoffman', 'birth_year': 1937, 'death_year': 'No info', 'nationality': 'American'}, {'id': 13, 'name': 'Tom Hardy', 'birth_year': 1977, 'death_year': 'No info', 'nationality': 'British'}, {'id': 14, 'name': 'Chris Hemsworth', 'birth_year': 1983, 'death_year': 'No info', 'nationality': 'Australian'}, {'id': 15, 'name': 'Tommy Lee Jones', 'birth_year': 1946, 'death_year': 'No info', 'nationality': 'American'}, {'id': 16, 'name': 'Leonardo DiCaprio', 'birth_year': 1974, 'death_year': 'No info', 'nationality': 'American'}, {'id': 17, 'name': 'Morgan Freeman', 'birth_year': 1937, 'death_year': 'No info', 'nationality': 'American'}, {'id': 18, 'name': 'Johnny Depp', 'birth_year': 1963, 'death_year': 'No info', 'nationality': 'American'}, {'id': 19, 'name': 'Humphrey Bogart', 'birth_year': 1899, 'death_year': 1957, 'nationality': 'American'}, {'id': 20, 'name': 'Daniel Craig', 'birth_year': 1968, 'death_year': 'No info', 'nationality': 'British'}, {'id': 21, 'name': 'Christian Bale', 'birth_year': 1974, 'death_year': 'No info', 'nationality': 'British'}, {'id': 22, 'name': 'Gary Oldman', 'birth_year': 1958, 'death_year': 'No info', 'nationality': 'British'}, {'id': 23, 'name': 'Christopher Lee', 'birth_year': 1922, 'death_year': 2015, 'nationality': 'British'}, {'id': 24, 'name': 'Heath Ledger', 'birth_year': 1979, 'death_year': 2008, 'nationality': 'Australian'}, {'id': 25, 'name': 'Benedict Cumberbatch', 'birth_year': 1976, 'death_year': 'No info', 'nationality': 'British'}, {'id': 26, 'name': 'Jackie Chan', 'birth_year': 1954, 'death_year': 'No info', 'nationality': 'Hong Kong'}, {'id': 27, 'name': 'Idris Elba', 'birth_year': 1972, 'death_year': 'No info', 'nationality': 'British'}, {'id': 28, 'name': 'Javier Bardem', 'birth_year': 1969, 'death_year': 'No info', 'nationality': 'Spanish'}, {'id': 29, 'name': 'Jeff Bridges', 'birth_year': 1949, 'death_year': 'No info', 'nationality': 'American'}, {'id': 30, 'name': 'Matt Damon', 'birth_year': 1970, 'death_year': 'No info', 'nationality': 'American'}, {'id': 31, 'name': 'Michael Fassbender', 'birth_year': 1977, 'death_year': 'No info', 'nationality': 'German'}, {'id': 32, 'name': 'Amitabh Bachchan', 'birth_year': 1942, 'death_year': 'No info', 'nationality': 'Indian'}, {'id': 33, 'name': 'Gary Sinise', 'birth_year': 1955, 'death_year': 'No info', 'nationality': 'American'}, {'id': 34, 'name': 'Jude Law', 'birth_year': 1972, 'death_year': 'No info', 'nationality': 'British'}, {'id': 35, 'name': 'Ryan Gosling', 'birth_year': 1980, 'death_year': 'No info', 'nationality': 'Canadian'}, {'id': 36, 'name': 'Hugh Jackman', 'birth_year': 1968, 'death_year': 'No info', 'nationality': 'Australian'}, {'id': 37, 'name': 'Liam Neeson', 'birth_year': 1952, 'death_year': 'No info', 'nationality': 'Irish'}, {'id': 38, 'name': 'Brad Pitt', 'birth_year': 1963, 'death_year': 'No info', 'nationality': 'American'}, {'id': 39, 'name': 'Daniel Day-Lewis', 'birth_year': 1957, 'death_year': 'No info', 'nationality': 'British'}, {'id': 40, 'name': 'Joaquin Phoenix', 'birth_year': 1974, 'death_year': 'No info', 'nationality': 'American'}]\n"
     ]
    }
   ],
   "source": [
    "#CSV --ID,Name,Birth_year,Death_year,Nationality\n",
    "import csv\n",
    "import requests\n",
    "selected_keys=[\"id\",\"name\",\"birth_year\",\"death_year\",\"nationality\"]\n",
    "\n",
    "my_list =[{key: i.get(key,'No info') for key in selected_keys} for i in my_data]\n",
    "\n",
    "print(my_list)\n",
    "column_names = ','.join(my_list[0].keys()) + '\\n'\n",
    "for info in my_list:\n",
    "        folder_path=os.path.join(\"Project\",info[\"name\"])\n",
    "        os.makedirs(folder_path, exist_ok=True)\n",
    "        file_path = os.path.join(folder_path, info[\"name\"])\n",
    "        with open(file_path, mode=\"w\", newline=\"\", encoding=\"utf-8\") as file:\n",
    "                file.write(column_names)\n",
    "                values=\",\".join(map(str,info.values()))\n",
    "                file.write(values)\n",
    "        my_index=my_list.index(info)\n",
    "        url=my_data[my_index].get(\"image\")\n",
    "        respond=requests.get(url)\n",
    "        image_path=os.path.join(folder_path, f'{info[\"name\"]}.png')\n",
    "        with open(image_path, mode=\"wb\") as image:\n",
    "                image.write(respond.content)\n"
   ]
  }
 ],
 "metadata": {
  "kernelspec": {
   "display_name": "Python 3",
   "language": "python",
   "name": "python3"
  },
  "language_info": {
   "codemirror_mode": {
    "name": "ipython",
    "version": 3
   },
   "file_extension": ".py",
   "mimetype": "text/x-python",
   "name": "python",
   "nbconvert_exporter": "python",
   "pygments_lexer": "ipython3",
   "version": "3.12.8"
  }
 },
 "nbformat": 4,
 "nbformat_minor": 2
}
