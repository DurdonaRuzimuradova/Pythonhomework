{
 "cells": [
  {
   "cell_type": "code",
   "execution_count": 8,
   "metadata": {},
   "outputs": [
    {
     "name": "stdout",
     "output_type": "stream",
     "text": [
      "['SQL Server', 'SQL Server Native Client RDA 11.0', 'ODBC Driver 17 for SQL Server', 'Microsoft Access Driver (*.mdb, *.accdb)', 'Microsoft Excel Driver (*.xls, *.xlsx, *.xlsm, *.xlsb)', 'Microsoft Access Text Driver (*.txt, *.csv)', 'Microsoft Access dBASE Driver (*.dbf, *.ndx, *.mdx)']\n"
     ]
    }
   ],
   "source": [
    "# import pyodbc\n",
    "# print(pyodbc.drivers())\n"
   ]
  },
  {
   "cell_type": "code",
   "execution_count": 11,
   "metadata": {},
   "outputs": [
    {
     "name": "stdout",
     "output_type": "stream",
     "text": [
      "(1001, 'FINANCE', 'SYDNEY')\n"
     ]
    }
   ],
   "source": [
    "import pyodbc\n",
    "\n",
    "connection = pyodbc.connect(\"Driver={SQL Server};\"\n",
    "                            r\"Server=DESKTOP-75UE17H\\SQLEXPRESS;\"\n",
    "                            \"Database=W3Resource;\"\n",
    "                            \"Trusted_Connection=yes;\")\n",
    "\n",
    "cursor = connection.cursor()\n",
    "sql = \"SELECT * FROM Employee.department\"  # Adjust this if needed\n",
    "cursor.execute(sql)\n",
    "newresult = cursor.fetchall()\n",
    "\n",
    "if newresult:\n",
    "    print(newresult[0])  # Print the first row\n",
    "else:\n",
    "    print(\"No data found.\")\n",
    "\n",
    "connection.close()\n"
   ]
  },
  {
   "cell_type": "code",
   "execution_count": 19,
   "metadata": {},
   "outputs": [
    {
     "name": "stdout",
     "output_type": "stream",
     "text": [
      "[('Kira Nerys', 29)]\n"
     ]
    }
   ],
   "source": [
    "import pyodbc\n",
    "\n",
    "connection = pyodbc.connect(\"Driver={SQL Server};\"\n",
    "                            r\"Server=DESKTOP-75UE17H\\SQLEXPRESS;\"\n",
    "                            \"Database=W3Resource;\"\n",
    "                            \"Trusted_Connection=yes;\")\n",
    "\n",
    "cursor = connection.cursor()\n",
    "sql_statements =[\n",
    "    \"create database HWL17;\",\n",
    "    \"use HWL17;\",\n",
    "    \"create table Roster(Name varchar(50), Species varchar(50), Age int);\",\n",
    "    \"insert into Roster values ('Benjamin Sisko', 'Human', 40), ('Jadzia Dax','Trill',300), ('Kira Nerys','Bajoran', 29);\",\n",
    "    \"update  Roster set Name='Ezri Dax' where Age=300;\"] \n",
    "for statement in sql_statements:\n",
    "    cursor.execute(statement)\n",
    "sql=\"select Name, Age from Roster where Species='Bajoran'\"\n",
    "result=cursor.execute(sql)\n",
    "newresult = result.fetchall()\n",
    "\n",
    "if newresult:\n",
    "    print(newresult)\n",
    "else:\n",
    "    print(\"No data found.\")\n",
    "\n",
    "connection.close()\n"
   ]
  },
  {
   "cell_type": "code",
   "execution_count": 12,
   "metadata": {},
   "outputs": [],
   "source": [
    "import sqlite3\n",
    "\n",
    "connection=sqlite3.connect('sqlite_db.sqlite')"
   ]
  },
  {
   "cell_type": "code",
   "execution_count": 13,
   "metadata": {},
   "outputs": [
    {
     "name": "stdout",
     "output_type": "stream",
     "text": [
      "[('Kira Nerys', 29)]\n"
     ]
    }
   ],
   "source": [
    "\n",
    "\n",
    "cursor=connection.cursor()\n",
    "sql_statements =[\n",
    "    \"drop table if exists Roster;\",\n",
    "    \"create table Roster(Name text, Species text, Age int);\",\n",
    "    \"insert into Roster values ('Benjamin Sisko', 'Human', 40), ('Jadzia Dax','Trill',300), ('Kira Nerys','Bajoran', 29);\"]\n",
    "sql_statement1=\"update  Roster set Name='Ezri Dax' where Age=300;\"\n",
    "sql_statement2=\"select Name, Age from Roster where Species='Bajoran'\"\n",
    "\n",
    "for statement in sql_statements:\n",
    "    cursor.execute(statement)\n",
    "connection.commit()\n",
    "cursor.execute(sql_statement1)\n",
    "connection.commit()\n",
    "result=cursor.execute(sql_statement2)\n",
    "\n",
    "newresult = result.fetchall()\n",
    "\n",
    "if newresult:\n",
    "    print(newresult)\n",
    "else:\n",
    "    print(\"No data found.\")\n",
    "\n",
    "connection.close()"
   ]
  },
  {
   "cell_type": "code",
   "execution_count": 16,
   "metadata": {},
   "outputs": [
    {
     "name": "stdout",
     "output_type": "stream",
     "text": [
      "[('Kira Nerys', 29)]\n"
     ]
    }
   ],
   "source": [
    "import sqlite3\n",
    "\n",
    "sql_statements =[\n",
    "    \"drop table if exists Roster;\",\n",
    "    \"create table Roster(Name text, Species text, Age int);\",\n",
    "    \"insert into Roster values ('Benjamin Sisko', 'Human', 40), ('Jadzia Dax','Trill',300), ('Kira Nerys','Bajoran', 29);\"]\n",
    "sql_statement1=\"update  Roster set Name='Ezri Dax' where Age=300;\"\n",
    "sql_statement2=\"select Name, Age from Roster where Species='Bajoran';\"\n",
    "\n",
    "with sqlite3.connect('sqlite_db1.sqlite') as connection:\n",
    "    cursor = connection.cursor()\n",
    "    for statement in sql_statements:\n",
    "        cursor.execute(statement)\n",
    "    connection.commit()\n",
    "    cursor.execute(sql_statement1)\n",
    "    connection.commit()\n",
    "    result=cursor.execute(sql_statement2)\n",
    "    newresult = result.fetchall()\n",
    "    if newresult:\n",
    "        print(newresult)\n",
    "    else:\n",
    "        print(\"No data found.\")\n"
   ]
  }
 ],
 "metadata": {
  "kernelspec": {
   "display_name": "Python 3",
   "language": "python",
   "name": "python3"
  },
  "language_info": {
   "codemirror_mode": {
    "name": "ipython",
    "version": 3
   },
   "file_extension": ".py",
   "mimetype": "text/x-python",
   "name": "python",
   "nbconvert_exporter": "python",
   "pygments_lexer": "ipython3",
   "version": "3.12.8"
  }
 },
 "nbformat": 4,
 "nbformat_minor": 2
}
