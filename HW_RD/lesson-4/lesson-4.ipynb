{
 "cells": [
  {
   "cell_type": "code",
   "execution_count": 25,
   "metadata": {},
   "outputs": [
    {
     "name": "stdout",
     "output_type": "stream",
     "text": [
      "['rice', 'beans']\n",
      "['rice', 'beans', 'broccoli']\n",
      "['rice', 'beans', 'broccoli', 'bread', 'pizza']\n",
      "['rice', 'beans']\n",
      "pizza\n"
     ]
    }
   ],
   "source": [
    "food=['rice','beans']\n",
    "food.append('broccoli')\n",
    "food1=['bread','pizza']\n",
    "food.extend(food1)\n",
    "print(food)\n",
    "print(food[:2])\n",
    "print(food[len(food)-1])\n"
   ]
  },
  {
   "cell_type": "code",
   "execution_count": 30,
   "metadata": {},
   "outputs": [
    {
     "name": "stdout",
     "output_type": "stream",
     "text": [
      "['eggs', 'fruit', 'orange', 'juice']\n",
      "no\n"
     ]
    }
   ],
   "source": [
    "breakfast='eggs,fruit,orange,juice'\n",
    "breakfest=breakfast.split(',')\n",
    "print(breakfest)\n",
    "if (len(breakfest)==3):\n",
    "    print('yes')\n",
    "else: \n",
    "    print('no')"
   ]
  },
  {
   "cell_type": "code",
   "execution_count": null,
   "metadata": {},
   "outputs": [],
   "source": [
    "lengths=[]"
   ]
  }
 ],
 "metadata": {
  "kernelspec": {
   "display_name": "Python 3",
   "language": "python",
   "name": "python3"
  },
  "language_info": {
   "codemirror_mode": {
    "name": "ipython",
    "version": 3
   },
   "file_extension": ".py",
   "mimetype": "text/x-python",
   "name": "python",
   "nbconvert_exporter": "python",
   "pygments_lexer": "ipython3",
   "version": "3.12.8"
  }
 },
 "nbformat": 4,
 "nbformat_minor": 2
}
