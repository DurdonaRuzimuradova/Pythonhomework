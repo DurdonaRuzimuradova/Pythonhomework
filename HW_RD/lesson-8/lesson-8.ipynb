{
 "cells": [
  {
   "cell_type": "code",
   "execution_count": 9,
   "metadata": {},
   "outputs": [
    {
     "name": "stdout",
     "output_type": "stream",
     "text": [
      "\n"
     ]
    }
   ],
   "source": [
    "with open(\"puzzle.txt\",'r') as f:\n",
    "    data=f.read(30)\n",
    "print(data)"
   ]
  },
  {
   "cell_type": "code",
   "execution_count": 37,
   "metadata": {},
   "outputs": [
    {
     "name": "stdout",
     "output_type": "stream",
     "text": [
      "{'THE': 6, 'ZEN': 1, 'OF': 3, 'PYTHON': 1, 'BY': 1, 'TIM': 1, 'PETERS': 1, '': 4, 'BEAUTIFUL': 1, 'IS': 10, 'BETTER': 8, 'THAN': 8, 'UGLY': 1, 'EXPLICIT': 1, 'IMPLICIT': 1, 'SIMPLE': 1, 'COMPLEX': 2, 'COMPLICATED': 1, 'FLAT': 1, 'NESTED': 1, 'SPARSE': 1, 'DENSE': 1, 'READABILITY': 1, 'COUNTS': 1, 'SPECIAL': 2, 'CASES': 1, \"AREN'T\": 1, 'ENOUGH': 1, 'TO': 5, 'BREAK': 1, 'RULES': 1, 'ALTHOUGH': 3, 'PRACTICALITY': 1, 'BEATS': 1, 'PURITY': 1, 'ERRORS': 1, 'SHOULD': 2, 'NEVER': 3, 'PASS': 1, 'SILENTLY': 1, 'UNLESS': 2, 'EXPLICITLY': 1, 'SILENCED': 1, 'IN': 1, 'FACE': 1, 'AMBIGUITY': 1, 'REFUSE': 1, 'TEMPTATION': 1, 'GUESS': 1, 'THERE': 1, 'BE': 3, 'ONE': 3, 'AND': 1, 'PREFERABLY': 1, 'ONLY': 1, 'OBVIOUS': 2, 'WAY': 2, 'DO': 2, 'IT': 2, 'THAT': 1, 'MAY': 2, 'NOT': 1, 'AT': 1, 'FIRST': 1, \"YOU'RE\": 1, 'DUTCH': 1, 'NOW': 2, 'OFTEN': 1, 'RIGHT': 1, 'IF': 2, 'IMPLEMENTATION': 2, 'HARD': 1, 'EXPLAIN': 2, \"IT'S\": 1, 'A': 2, 'BAD': 1, 'IDEA': 3, 'EASY': 1, 'GOOD': 1, 'NAMESPACES': 1, 'ARE': 1, 'HONKING': 1, 'GREAT': 1, \"LET'S\": 1, 'MORE': 1, 'THOSE': 1}\n"
     ]
    }
   ],
   "source": [
    "with open(\"puzzle.txt\",'r') as F:\n",
    "    \n",
    "    data=F.read()\n",
    "    # chars = ['.',',','--', '*', '!', '\\n']\n",
    "    # for i in chars:\n",
    "    #     data.replace(i,'')\n",
    "DATA=data.upper()\n",
    "DATA=DATA.replace('.','')\n",
    "DATA=DATA.replace(',','')\n",
    "DATA=DATA.replace('--','')\n",
    "DATA=DATA.replace('*','')\n",
    "DATA=DATA.replace('\\n',' ')\n",
    "DATA=DATA.replace('!',' ')\n",
    "DATA_list=DATA.split(' ')\n",
    "my_dict={}\n",
    "for char in DATA_list:\n",
    "    if char not in my_dict.keys():\n",
    "        my_dict[char] = 1\n",
    "    else:\n",
    "        my_dict[char]+=1\n",
    "print(my_dict)\n",
    "\n",
    "        \n"
   ]
  }
 ],
 "metadata": {
  "kernelspec": {
   "display_name": "Python 3",
   "language": "python",
   "name": "python3"
  },
  "language_info": {
   "codemirror_mode": {
    "name": "ipython",
    "version": 3
   },
   "file_extension": ".py",
   "mimetype": "text/x-python",
   "name": "python",
   "nbconvert_exporter": "python",
   "pygments_lexer": "ipython3",
   "version": "3.12.8"
  }
 },
 "nbformat": 4,
 "nbformat_minor": 2
}
