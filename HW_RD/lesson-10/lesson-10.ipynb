{
 "cells": [
  {
   "cell_type": "markdown",
   "metadata": {},
   "source": [
    "Python class, Basic exercises\n",
    "class Book:\n",
    "    def __init__ (self,title,author,pages):\n",
    "        self.title=title\n",
    "        self.author=author2\n",
    "        self.pages=pages\n",
    "    def Summary(self):\n",
    "        return f'Title: {self.title}, Author: {self.author}, Pages:{self.pages}'\n",
    "   \n",
    "my_book=Book('The great Gatsby','F.Scott Fitzgerald', 180)\n",
    "print(my_book.Summary())"
   ]
  },
  {
   "cell_type": "code",
   "execution_count": 1,
   "metadata": {},
   "outputs": [
    {
     "name": "stdout",
     "output_type": "stream",
     "text": [
      "__name__\n",
      "__doc__\n",
      "__package__\n",
      "__loader__\n",
      "__spec__\n",
      "_array_reconstructor\n",
      "ArrayType\n",
      "array\n",
      "typecodes\n"
     ]
    }
   ],
   "source": [
    "#1.Write a Python program to import a built-in array module and display the namespace of the said module.\n",
    "import array\n",
    "for name in array.__dict__:\n",
    "    print(name)"
   ]
  },
  {
   "cell_type": "code",
   "execution_count": 2,
   "metadata": {},
   "outputs": [
    {
     "name": "stdout",
     "output_type": "stream",
     "text": [
      "__module__\n",
      "sub_sets\n",
      "subsetsRecur\n",
      "__dict__\n",
      "__weakref__\n",
      "__doc__\n"
     ]
    }
   ],
   "source": [
    "#2.  Write a Python program to create a class and display the namespace of that class.\n",
    "class py_solution:\n",
    "    def sub_sets(self, sset):\n",
    "        return self.subsetsRecur([], sorted(sset))    \n",
    "    def subsetsRecur(self, current, sset):\n",
    "        if sset:\n",
    "            return self.subsetsRecur(current, sset[1:]) + self.subsetsRecur(current + [sset[0]], sset[1:])\n",
    "        return [current]\n",
    "for name in py_solution.__dict__:\n",
    "    print(name)\n"
   ]
  },
  {
   "cell_type": "code",
   "execution_count": 4,
   "metadata": {},
   "outputs": [
    {
     "name": "stdout",
     "output_type": "stream",
     "text": [
      "{'name': 'bread', 'id': '120315', 'price': '$2'}\n"
     ]
    }
   ],
   "source": [
    "#3. Write a Python program to create an instance of a specified class and display the namespace of the said instance.\n",
    "class Products:\n",
    "    def __init__(self, name, id, price):\n",
    "        self.name=name\n",
    "        self.id=id\n",
    "        self.price=price\n",
    "Product1=Products(\"bread\",\"120315\",\"$2\")\n",
    "print(Product1.__dict__)\n"
   ]
  },
  {
   "cell_type": "code",
   "execution_count": 5,
   "metadata": {},
   "outputs": [
    {
     "name": "stdout",
     "output_type": "stream",
     "text": [
      "Help on built-in function abs in module builtins:\n",
      "\n",
      "abs(x, /)\n",
      "    Return the absolute value of the argument.\n",
      "\n",
      "155\n"
     ]
    }
   ],
   "source": [
    "#4. 'builtins' module provides direct access to all 'built-in' identifiers of Python.Write a Python program that imports the abs() function using \n",
    "# the builtins module, displays the documentation of the abs() function and finds the absolute value of -155.\n",
    "import builtins \n",
    "help(builtins.abs)\n",
    "print(builtins.abs(-155))\n"
   ]
  },
  {
   "cell_type": "code",
   "execution_count": 6,
   "metadata": {},
   "outputs": [
    {
     "name": "stdout",
     "output_type": "stream",
     "text": [
      "Student name:Bahromjon \n",
      "Student id:120325 \n",
      "Student grade:90\n"
     ]
    }
   ],
   "source": [
    "#5. Define a Python function student(). Using function attributes display the names of all arguments.\n",
    "def student(name, id, grade):\n",
    "    return f'Student name:{name} \\nStudent id:{id} \\nStudent grade:{grade}'\n",
    "print(student('Bahromjon','120325',90))"
   ]
  },
  {
   "cell_type": "code",
   "execution_count": 12,
   "metadata": {},
   "outputs": [
    {
     "name": "stdout",
     "output_type": "stream",
     "text": [
      "\n",
      "Student ID: S1213\n",
      "Student name: Bahromjon\n",
      "\n",
      "Student ID: S1213\n",
      "Student name: Bahromjon\n",
      "\n",
      "Student name: Bahromjon\n",
      "Student class: 3\n"
     ]
    }
   ],
   "source": [
    "#6. Write a Python function student_data () that will print the ID of a student (student_id). If the user passes an argument student_name or student_class the function will print the student name and class.\n",
    "def student_data(student_id, **kwargs):\n",
    "    print(f'\\nStudent ID: {student_id}')\n",
    "    if 'student_name' in kwargs:\n",
    "          print(f'Student name: {kwargs['student_name']}')\n",
    "    if 'student_name' and 'student_class' in kwargs:\n",
    "         print(f'\\nStudent name: {kwargs['student_name']}')\n",
    "         print(f'Student class: {kwargs['student_class']}')\n",
    "student_data(student_id='S1213', student_name='Bahromjon')\n",
    "student_data(student_id='S1213', student_name='Bahromjon', student_class='3')\n",
    "         \n"
   ]
  },
  {
   "cell_type": "code",
   "execution_count": 14,
   "metadata": {},
   "outputs": [
    {
     "name": "stdout",
     "output_type": "stream",
     "text": [
      "<class 'type'>\n",
      "dict_keys(['__module__', '__inint__', '__dict__', '__weakref__', '__doc__'])\n",
      "__main__\n"
     ]
    }
   ],
   "source": [
    "#7. Write a simple Python class named Student and display its type. Also, display the __dict__ attribute \n",
    "# keys and the value of the __module__ attribute of the Student class.\n",
    "class Student:\n",
    "    def __inint__(self, student_id, student_name, student_class):\n",
    "        self.srudent_id=student_id\n",
    "        self.student_name=student_name\n",
    "        self.student_class=student_class\n",
    "\n",
    "print(type(Student))\n",
    "print(Student.__dict__.keys())\n",
    "print(Student.__module__) "
   ]
  },
  {
   "cell_type": "code",
   "execution_count": 15,
   "metadata": {},
   "outputs": [
    {
     "name": "stdout",
     "output_type": "stream",
     "text": [
      "True\n",
      "False\n",
      "True\n",
      "False\n",
      "\n",
      "Check whether the said classes are subclasses of the built-in object class or not.\n",
      "True\n",
      "True\n"
     ]
    }
   ],
   "source": [
    "#8. Write a Python program to create two empty classes, Student and Marks. Now create some instances and check whether \n",
    "# they are instances of the said classes or not. Also, check whether the said classes are subclasses of the built-in \n",
    "# object class or not.\n",
    "class Student:\n",
    "    pass\n",
    "class Marks:\n",
    "    pass\n",
    "student1 = Student()\n",
    "marks1 = Marks()\n",
    "print(isinstance(student1, Student))\n",
    "print(isinstance(marks1, Student))\n",
    "print(isinstance(marks1, Marks)) \n",
    "print(isinstance(student1, Marks))\n",
    "print(\"\\nCheck whether the said classes are subclasses of the built-in object class or not.\")\n",
    "print(issubclass(Student, object))\n",
    "print(issubclass(Marks, object)) \n"
   ]
  },
  {
   "cell_type": "code",
   "execution_count": 16,
   "metadata": {},
   "outputs": [
    {
     "name": "stdout",
     "output_type": "stream",
     "text": [
      "Student Name: Egamberdiyev Bahromjon\n",
      "Marks: 89\n",
      "Student Name: Egamberdiyev Ibrohim\n",
      "Marks: 92\n"
     ]
    }
   ],
   "source": [
    "#9. Write a Python class named Student with two attributes student_name, marks. Modify the attribute values\n",
    "#  of the said class and print the original and modified values of the said attributes.\n",
    "class Student:\n",
    "    student_name = 'Egamberdiyev Bahromjon'\n",
    "    marks = 89  \n",
    "print(f\"Student Name: {getattr(Student, 'student_name')}\")\n",
    "print(f\"Marks: {getattr(Student, 'marks')}\")\n",
    "setattr(Student, 'student_name', 'Egamberdiyev Ibrohim')\n",
    "setattr(Student, 'marks', 92) \n",
    "print(f\"Student Name: {getattr(Student, 'student_name')}\")\n",
    "print(f\"Marks: {getattr(Student, 'marks')}\")\n"
   ]
  },
  {
   "cell_type": "code",
   "execution_count": 20,
   "metadata": {},
   "outputs": [
    {
     "name": "stdout",
     "output_type": "stream",
     "text": [
      "abc\n",
      "Raj\n",
      "A\n"
     ]
    }
   ],
   "source": [
    "#10.Write a Python class named Student with two attributes student_id, student_name. Add a new attribute student_class and display the entire attribute and the values of the class.\n",
    "#  Now remove the student_name attribute and display the entire attribute with values. \n",
    "class Student:\n",
    "    student_id='abc'\n",
    "    student_name='Raj'\n",
    "print(getattr(Student,'student_id')) \n",
    "print(getattr(Student,'student_name')) \n",
    "\n",
    "Student.student_class=\"A\"\n",
    "print(getattr(Student,'student_class')) \n",
    "del Student.student_name\n"
   ]
  },
  {
   "cell_type": "code",
   "execution_count": 27,
   "metadata": {},
   "outputs": [
    {
     "name": "stdout",
     "output_type": "stream",
     "text": [
      "Student id: 1234\n",
      "Student Name: Bill\n",
      "Student Class: 4\n"
     ]
    }
   ],
   "source": [
    "#11. Write a Python class named Student with two attributes: student_id, student_name. Add a new attribute: student_class. \n",
    "# Create a function to display all attributes and their values in the Student class.\n",
    "class Student:\n",
    "    student_id='1234'\n",
    "    student_name=\"Bill\"\n",
    "Student.student_class=\"4\"\n",
    "def my_function():\n",
    "   print(f'Student id: {Student.student_id}\\nStudent Name: {Student.student_name}\\nStudent Class: {Student.student_class}')\n",
    "my_function()\n"
   ]
  },
  {
   "cell_type": "code",
   "execution_count": 33,
   "metadata": {},
   "outputs": [
    {
     "name": "stdout",
     "output_type": "stream",
     "text": [
      "student_id-> S123\n",
      "student_name-> Alisher Jurayev\n",
      "student_class-> 3\n",
      "student_id-> S453\n",
      "student_name-> Ali Kamolov\n",
      "student_class-> 4\n",
      "student_lang-> uzbek\n"
     ]
    }
   ],
   "source": [
    "#12.Write a Python class named Student with two instances student1, student2 and assign values to the \n",
    "# instances' attributes. Print all the attributes of the student1, student2 instances with their values\n",
    "#  in the given format.\n",
    "class Student:\n",
    "    school=\"Presidential school\"\n",
    "    address='Mirzo Ulugbek,4/16'\n",
    "student1=Student()\n",
    "student2=Student()\n",
    "student1.student_id='S123'\n",
    "student1.student_name='Alisher Jurayev'\n",
    "student1.student_class='3'\n",
    "student2.student_id='S453'\n",
    "student2.student_name='Ali Kamolov'\n",
    "student2.student_class='4'\n",
    "student2.student_lang='uzbek'\n",
    "Students=[student1, student2]\n",
    "for item in Students:\n",
    "    \n",
    "    for attr in item.__dict__:\n",
    "        print(f'{attr}-> {getattr(item,attr)}')\n",
    "   "
   ]
  },
  {
   "cell_type": "markdown",
   "metadata": {},
   "source": [
    "Python class, Basic application"
   ]
  },
  {
   "cell_type": "code",
   "execution_count": 36,
   "metadata": {},
   "outputs": [
    {
     "name": "stdout",
     "output_type": "stream",
     "text": [
      "CCCXLVI\n"
     ]
    }
   ],
   "source": [
    "#1.Write a Python class to convert an integer to a Roman numeral.\n",
    "class Roman_numbers:\n",
    "    def int_to_Roman(self, num):\n",
    "        val = [\n",
    "            1000, 900, 500, 400,\n",
    "            100, 90, 50, 40,\n",
    "            10, 9, 5, 4,\n",
    "            1\n",
    "            ]\n",
    "        syb = [\n",
    "            \"M\", \"CM\", \"D\", \"CD\",\n",
    "            \"C\", \"XC\", \"L\", \"XL\",\n",
    "            \"X\", \"IX\", \"V\", \"IV\",\n",
    "            \"I\"\n",
    "            ]\n",
    "        roman_num = ''\n",
    "        i = 0\n",
    "        while  num > 0:\n",
    "            for item in range(num // val[i]):\n",
    "                roman_num += syb[i]\n",
    "                num -= val[i]\n",
    "            i += 1\n",
    "        return roman_num\n",
    "\n",
    "\n",
    "print(Roman_numbers().int_to_Roman(346))\n"
   ]
  },
  {
   "cell_type": "code",
   "execution_count": 38,
   "metadata": {},
   "outputs": [
    {
     "name": "stdout",
     "output_type": "stream",
     "text": [
      "2246\n"
     ]
    }
   ],
   "source": [
    "#2.Write a  Python class to convert a Roman numeral to an integer.\n",
    "class Roman_numbers:\n",
    "    def roman_to_int(self, roman_num):\n",
    "        rom_val = {'I': 1, 'V': 5, 'X': 10, 'L': 50, 'C': 100, 'D': 500, 'M': 1000}\n",
    "        int_val = 0\n",
    "        for i in range(len(roman_num)):\n",
    "            if i > 0 and rom_val[roman_num[i]] > rom_val[roman_num[i - 1]]:\n",
    "                int_val += rom_val[roman_num[i]] - 2 * rom_val[roman_num[i - 1]]\n",
    "            else:\n",
    "                int_val += rom_val[roman_num[i]]\n",
    "        return int_val\n",
    "\n",
    "print(Roman_numbers().roman_to_int('MMCCXLVI'))\n",
    "\n"
   ]
  },
  {
   "cell_type": "code",
   "execution_count": 50,
   "metadata": {},
   "outputs": [
    {
     "data": {
      "text/plain": [
       "False"
      ]
     },
     "execution_count": 50,
     "metadata": {},
     "output_type": "execute_result"
    }
   ],
   "source": [
    "#3.Write a Python class to check the validity of a string of parentheses, '(', ')', '{', '}', '[' and ']. These brackets must be closed in the correct order, for example \"()\" and \"()[]{}\" are valid but \"[)\", \"({[)]\" and \"{{{\" are invalid.\n",
    "class MyClass:\n",
    "    def check_parentheses(self, my_string):\n",
    "        dic_prnth = {\"(\": \")\", \"{\": \"}\", \"[\": \"]\"}\n",
    "        stack = []  \n",
    "\n",
    "        for char in my_string:\n",
    "            if char in dic_prnth:  \n",
    "                stack.append(char)  \n",
    "            elif stack and char == dic_prnth[stack[-1]]:  \n",
    "                stack.pop()  \n",
    "            else:\n",
    "                return False  \n",
    "        \n",
    "        return len(stack) == 0  \n",
    "\n",
    "\n",
    "\n",
    "sample = \"())}{}[]\"\n",
    "result = MyClass().check_parentheses(sample)\n",
    "result\n",
    "  "
   ]
  },
  {
   "cell_type": "code",
   "execution_count": 56,
   "metadata": {},
   "outputs": [
    {
     "name": "stdout",
     "output_type": "stream",
     "text": [
      "[[], [4, 5, 6], [4], [4, 5], [4, 6], [5], [5, 4], [5, 6], [6], [6, 4], [6, 5]]\n"
     ]
    }
   ],
   "source": [
    "#4.Write a Python class to get all possible unique subsets from a set of distinct integers.\n",
    "class Set:\n",
    "    def subset(self, list_int):\n",
    "        my_list=[[],list_int]\n",
    "        for i in list_int:\n",
    "            my_list.append([i])\n",
    "            for j in list_int:\n",
    "                if (j!=i):\n",
    "                    a=[i,j]\n",
    "                    my_list.append(a)\n",
    "                    \n",
    "        print(my_list)\n",
    "sample=[4, 5, 6]\n",
    "Set().subset(sample)\n"
   ]
  },
  {
   "cell_type": "code",
   "execution_count": 57,
   "metadata": {},
   "outputs": [
    {
     "name": "stdout",
     "output_type": "stream",
     "text": [
      "index1=2, index2=3\n"
     ]
    }
   ],
   "source": [
    "#5.Write a Python class to find a pair of elements (indices of the two numbers) from a given array whose sum equals a specific target number.\n",
    "class py_solution:\n",
    "  def twoSum(self, nums, target):\n",
    "       lookup = {}\n",
    "       for i, num in enumerate(nums):\n",
    "           if target - num in lookup:\n",
    "               return (lookup[target - num], i )\n",
    "           lookup[num] = i\n",
    "print(\"index1=%d, index2=%d\" % py_solution().twoSum((10,20,10,40,50,60,70),50))\n"
   ]
  },
  {
   "cell_type": "code",
   "execution_count": null,
   "metadata": {},
   "outputs": [],
   "source": []
  }
 ],
 "metadata": {
  "kernelspec": {
   "display_name": "Python 3",
   "language": "python",
   "name": "python3"
  },
  "language_info": {
   "codemirror_mode": {
    "name": "ipython",
    "version": 3
   },
   "file_extension": ".py",
   "mimetype": "text/x-python",
   "name": "python",
   "nbconvert_exporter": "python",
   "pygments_lexer": "ipython3",
   "version": "3.12.8"
  }
 },
 "nbformat": 4,
 "nbformat_minor": 2
}
