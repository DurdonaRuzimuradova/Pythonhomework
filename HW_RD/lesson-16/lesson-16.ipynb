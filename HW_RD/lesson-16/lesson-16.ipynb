{
 "cells": [
  {
   "cell_type": "code",
   "execution_count": 4,
   "metadata": {},
   "outputs": [
    {
     "name": "stdout",
     "output_type": "stream",
     "text": [
      "Name of current thread:Thread_1\n",
      "Name of current thread:Thread_2\n"
     ]
    }
   ],
   "source": [
    "#1. Write a Python program to create multiple threads and print their names.\n",
    "import threading\n",
    "\n",
    "def Name():\n",
    "    print(f\"Name of current thread:{threading.current_thread().name}\")\n",
    "t1=threading.Thread(target=Name, name=\"Thread_1\")\n",
    "t2=threading.Thread(target=Name, name=\"Thread_2\")\n",
    "\n",
    "t1.start()\n",
    "t2.start()\n",
    "\n",
    "t1.join()\n",
    "t2.join()\n"
   ]
  },
  {
   "cell_type": "code",
   "execution_count": 7,
   "metadata": {},
   "outputs": [
    {
     "name": "stdout",
     "output_type": "stream",
     "text": [
      "Image1.jpg is started to downloadImage2.jpg is started to download\n",
      "\n",
      "Image3.jpg is started to download\n"
     ]
    },
    {
     "name": "stderr",
     "output_type": "stream",
     "text": [
      "Exception in thread Thread-58 (file_downloader):\n",
      "Traceback (most recent call last):\n",
      "  File \"c:\\Users\\hp\\AppData\\Local\\Programs\\Python\\Python312\\Lib\\threading.py\", line 1075, in _bootstrap_inner\n",
      "    self.run()\n",
      "  File \"c:\\Users\\hp\\AppData\\Local\\Programs\\Python\\Python312\\Lib\\site-packages\\ipykernel\\ipkernel.py\", line 761, in run_closure\n",
      "    _threading_Thread_run(self)\n",
      "  File \"c:\\Users\\hp\\AppData\\Local\\Programs\\Python\\Python312\\Lib\\threading.py\", line 1012, in run\n",
      "    self._target(*self._args, **self._kwargs)\n",
      "  File \"C:\\Users\\hp\\AppData\\Local\\Temp\\ipykernel_27576\\2279279397.py\", line 7, in file_downloader\n",
      "  File \"c:\\Users\\hp\\AppData\\Local\\Programs\\Python\\Python312\\Lib\\urllib\\request.py\", line 240, in urlretrieve\n",
      "    with contextlib.closing(urlopen(url, data)) as fp:\n",
      "                            ^^^^^^^^^^^^^^^^^^\n",
      "  File \"c:\\Users\\hp\\AppData\\Local\\Programs\\Python\\Python312\\Lib\\urllib\\request.py\", line 215, in urlopen\n",
      "    return opener.open(url, data, timeout)\n",
      "           ^^^^^^^^^^^^^^^^^^^^^^^^^^^^^^^\n",
      "  File \"c:\\Users\\hp\\AppData\\Local\\Programs\\Python\\Python312\\Lib\\urllib\\request.py\", line 521, in open\n",
      "    response = meth(req, response)\n",
      "               ^^^^^^^^^^^^^^^^^^^\n",
      "  File \"c:\\Users\\hp\\AppData\\Local\\Programs\\Python\\Python312\\Lib\\urllib\\request.py\", line 630, in http_response\n",
      "    response = self.parent.error(\n",
      "               ^^^^^^^^^^^^^^^^^^\n",
      "  File \"c:\\Users\\hp\\AppData\\Local\\Programs\\Python\\Python312\\Lib\\urllib\\request.py\", line 559, in error\n",
      "    return self._call_chain(*args)\n",
      "           ^^^^^^^^^^^^^^^^^^^^^^^\n",
      "  File \"c:\\Users\\hp\\AppData\\Local\\Programs\\Python\\Python312\\Lib\\urllib\\request.py\", line 492, in _call_chain\n",
      "    result = func(*args)\n",
      "             ^^^^^^^^^^^\n",
      "  File \"c:\\Users\\hp\\AppData\\Local\\Programs\\Python\\Python312\\Lib\\urllib\\request.py\", line 639, in http_error_default\n",
      "    raise HTTPError(req.full_url, code, msg, hdrs, fp)\n",
      "urllib.error.HTTPError: HTTP Error 403: Forbidden\n",
      "Exception in thread Exception in thread Thread-56 (file_downloader):\n",
      "Traceback (most recent call last):\n",
      "  File \"c:\\Users\\hp\\AppData\\Local\\Programs\\Python\\Python312\\Lib\\threading.py\", line 1075, in _bootstrap_inner\n",
      "Thread-57 (file_downloader):\n",
      "Traceback (most recent call last):\n",
      "  File \"c:\\Users\\hp\\AppData\\Local\\Programs\\Python\\Python312\\Lib\\threading.py\", line 1075, in _bootstrap_inner\n",
      "    self.run()\n",
      "  File \"c:\\Users\\hp\\AppData\\Local\\Programs\\Python\\Python312\\Lib\\site-packages\\ipykernel\\ipkernel.py\", line 761, in run_closure\n",
      "    self.run()\n",
      "  File \"c:\\Users\\hp\\AppData\\Local\\Programs\\Python\\Python312\\Lib\\site-packages\\ipykernel\\ipkernel.py\", line 761, in run_closure\n",
      "    _threading_Thread_run(self)\n",
      "  File \"c:\\Users\\hp\\AppData\\Local\\Programs\\Python\\Python312\\Lib\\threading.py\", line 1012, in run\n",
      "    _threading_Thread_run(self)\n",
      "  File \"c:\\Users\\hp\\AppData\\Local\\Programs\\Python\\Python312\\Lib\\threading.py\", line 1012, in run\n",
      "    self._target(*self._args, **self._kwargs)\n",
      "  File \"C:\\Users\\hp\\AppData\\Local\\Temp\\ipykernel_27576\\2279279397.py\", line 7, in file_downloader\n",
      "    self._target(*self._args, **self._kwargs)\n",
      "  File \"C:\\Users\\hp\\AppData\\Local\\Temp\\ipykernel_27576\\2279279397.py\", line 7, in file_downloader\n",
      "  File \"c:\\Users\\hp\\AppData\\Local\\Programs\\Python\\Python312\\Lib\\urllib\\request.py\", line 240, in urlretrieve\n",
      "  File \"c:\\Users\\hp\\AppData\\Local\\Programs\\Python\\Python312\\Lib\\urllib\\request.py\", line 240, in urlretrieve\n",
      "    with contextlib.closing(urlopen(url, data)) as fp:\n",
      "                            ^^^^^^^^^^^^^^^^^^\n",
      "  File \"c:\\Users\\hp\\AppData\\Local\\Programs\\Python\\Python312\\Lib\\urllib\\request.py\", line 215, in urlopen\n",
      "    with contextlib.closing(urlopen(url, data)) as fp:\n",
      "                            ^^^^^^^^^^^^^^^^^^\n",
      "  File \"c:\\Users\\hp\\AppData\\Local\\Programs\\Python\\Python312\\Lib\\urllib\\request.py\", line 215, in urlopen\n",
      "    return opener.open(url, data, timeout)\n",
      "           ^^^^^^^^^^^^^^^^^^^^^^^^^^^^^^^\n",
      "  File \"c:\\Users\\hp\\AppData\\Local\\Programs\\Python\\Python312\\Lib\\urllib\\request.py\", line 521, in open\n",
      "    return opener.open(url, data, timeout)\n",
      "           ^^^^^^^^^^^^^^^^^^^^^^^^^^^^^^^\n",
      "  File \"c:\\Users\\hp\\AppData\\Local\\Programs\\Python\\Python312\\Lib\\urllib\\request.py\", line 521, in open\n",
      "    response = meth(req, response)\n",
      "               ^^^^^^^^^^^^^^^^^^^\n",
      "  File \"c:\\Users\\hp\\AppData\\Local\\Programs\\Python\\Python312\\Lib\\urllib\\request.py\", line 630, in http_response\n",
      "    response = meth(req, response)\n",
      "               ^^^^^^^^^^^^^^^^^^^\n",
      "  File \"c:\\Users\\hp\\AppData\\Local\\Programs\\Python\\Python312\\Lib\\urllib\\request.py\", line 630, in http_response\n",
      "    response = self.parent.error(\n",
      "               ^^^^^^^^^^^^^^^^^^\n",
      "  File \"c:\\Users\\hp\\AppData\\Local\\Programs\\Python\\Python312\\Lib\\urllib\\request.py\", line 559, in error\n",
      "    response = self.parent.error(\n",
      "               ^^^^^^^^^^^^^^^^^^\n",
      "  File \"c:\\Users\\hp\\AppData\\Local\\Programs\\Python\\Python312\\Lib\\urllib\\request.py\", line 559, in error\n",
      "    return self._call_chain(*args)\n",
      "           ^^^^^^^^^^^^^^^^^^^^^^^\n",
      "  File \"c:\\Users\\hp\\AppData\\Local\\Programs\\Python\\Python312\\Lib\\urllib\\request.py\", line 492, in _call_chain\n",
      "    result = func(*args)\n",
      "             ^^^^^^^^^^^\n",
      "  File \"c:\\Users\\hp\\AppData\\Local\\Programs\\Python\\Python312\\Lib\\urllib\\request.py\", line 639, in http_error_default\n",
      "    return self._call_chain(*args)\n",
      "           ^^^^^^^^^^^^^^^^^^^^^^^\n",
      "  File \"c:\\Users\\hp\\AppData\\Local\\Programs\\Python\\Python312\\Lib\\urllib\\request.py\", line 492, in _call_chain\n",
      "    raise HTTPError(req.full_url, code, msg, hdrs, fp)\n",
      "urllib.error.HTTPError: HTTP Error 403: Forbidden\n",
      "    result = func(*args)\n",
      "             ^^^^^^^^^^^\n",
      "  File \"c:\\Users\\hp\\AppData\\Local\\Programs\\Python\\Python312\\Lib\\urllib\\request.py\", line 639, in http_error_default\n",
      "    raise HTTPError(req.full_url, code, msg, hdrs, fp)\n",
      "urllib.error.HTTPError: HTTP Error 403: Forbidden\n"
     ]
    },
    {
     "name": "stdout",
     "output_type": "stream",
     "text": [
      "All downloads completed.\n"
     ]
    }
   ],
   "source": [
    "#2. Write a Python program to download multiple files concurrently using threads.\n",
    "import threading\n",
    "import urllib.request\n",
    "\n",
    "def file_downloader(url, filename):\n",
    "    print(f\"{filename} is started to download\")\n",
    "    urllib.request.urlretrieve(url, filename)\n",
    "    print(f\"{filename} is downloaded successfully\")\n",
    "\n",
    "files_names_urls = [(\"https://images.pexels.com/photos/27276934/pexels-photo-27276934/free-photo-of-a-statue-of-a-man-holding-a-book-in-front-of-a-brick-building.jpeg?auto=compress&cs=tinysrgb&w=600\", \"Image1.jpg\"),\n",
    "    (\"https://images.pexels.com/photos/30660398/pexels-photo-30660398/free-photo-of-todaiji-temple-reflected-in-calm-pond-in-nara.jpeg?auto=compress&cs=tinysrgb&w=600\", \"Image2.jpg\"),\n",
    "    (\"https://images.pexels.com/photos/30596982/pexels-photo-30596982/free-photo-of-elevated-view-of-pantheon-paris-skyline.jpeg?auto=compress&cs=tinysrgb&w=600\", \"Image3.jpg\")]\n",
    "\n",
    "threads = []\n",
    "for url, filename in files_names_urls:\n",
    "    thread = threading.Thread(target=file_downloader, args=(url, filename))\n",
    "    thread.start()\n",
    "    threads.append(thread)\n",
    "\n",
    "for thread in threads:\n",
    "    thread.join()\n",
    "\n",
    "print(\"All downloads completed.\")\n",
    "\n"
   ]
  },
  {
   "cell_type": "code",
   "execution_count": 13,
   "metadata": {},
   "outputs": [
    {
     "name": "stdout",
     "output_type": "stream",
     "text": [
      "Even numbers in (30, 50): [30, 32, 34, 36, 38, 40, 42, 44, 46, 48]\n",
      "Odd numbers in (30, 50): [31, 33, 35, 37, 39, 41, 43, 45, 47, 49]\n"
     ]
    }
   ],
   "source": [
    "#3.Write a Python program that creates two threads to find and print even and odd numbers from 30 to 50.\n",
    "import threading\n",
    "\n",
    "def even_numbers(start, end):\n",
    "    even_numbers=[number for number in range(start,end) if number%2==0]\n",
    "    print(f\"Even numbers in ({start}, {end}): {even_numbers}\")\n",
    "def odd_numbers(start, end):\n",
    "    odd_numbers=[number for number in range(start,end) if number%2==1]\n",
    "    print(f\"Odd numbers in ({start}, {end}): {odd_numbers}\")\n",
    "    \n",
    "def main():\n",
    "    start_range = 30\n",
    "    end_range = 50\n",
    "\n",
    "    thread1 = threading.Thread(target=even_numbers, args=(start_range, end_range))\n",
    "    thread2 = threading.Thread(target=odd_numbers, args=(start_range, end_range))\n",
    "    thread1.start()\n",
    "    thread2.start()\n",
    "    thread1.join()\n",
    "    thread2.join()\n",
    "if __name__==\"__main__\":\n",
    "  main()"
   ]
  },
  {
   "cell_type": "code",
   "execution_count": 14,
   "metadata": {},
   "outputs": [
    {
     "name": "stdout",
     "output_type": "stream",
     "text": [
      "Factorial of 10 is: 3628800\n"
     ]
    }
   ],
   "source": [
    "#4.Write a Python program to calculate the factorial of a number using multiple threads.\n",
    "import threading\n",
    "\n",
    "def Factorial(start, end, result, index):\n",
    "    P = 1\n",
    "    for number in range(start, end + 1): \n",
    "        P *= number\n",
    "    result[index] = P\n",
    "\n",
    "def main():\n",
    "    start_range = 1\n",
    "    end_range = 10\n",
    "\n",
    "    mid_range = int((start_range + end_range)/ 2)\n",
    "    result = {}  \n",
    "\n",
    "    thread1 = threading.Thread(target=Factorial, args=(start_range, mid_range, result, 0))\n",
    "    thread2 = threading.Thread(target=Factorial, args=(mid_range + 1, end_range, result, 1))\n",
    "\n",
    "    thread1.start()\n",
    "    thread2.start()\n",
    "\n",
    "    thread1.join()\n",
    "    thread2.join()\n",
    "\n",
    "    factorial_result = result[0] * result[1]\n",
    "\n",
    "    print(f\"Factorial of {end_range} is: {factorial_result}\")\n",
    "\n",
    "if __name__ == \"__main__\":\n",
    "    main()\n"
   ]
  },
  {
   "cell_type": "code",
   "execution_count": 16,
   "metadata": {},
   "outputs": [
    {
     "name": "stdout",
     "output_type": "stream",
     "text": [
      "Response from https://images.pexels.com/photos/27276934/pexels-photo-27276934/free-photo-of-a-statue-of-a-man-holding-a-book-in-front-of-a-brick-building.jpeg?auto=compress&cs=tinysrgb&w=600:200\n",
      "Response from https://images.pexels.com/photos/30660398/pexels-photo-30660398/free-photo-of-todaiji-temple-reflected-in-calm-pond-in-nara.jpeg?auto=compress&cs=tinysrgb&w=600:200\n",
      "Response from https://images.pexels.com/photos/30596982/pexels-photo-30596982/free-photo-of-elevated-view-of-pantheon-paris-skyline.jpeg?auto=compress&cs=tinysrgb&w=600:200\n",
      "All requests completed.\n"
     ]
    }
   ],
   "source": [
    "#7. Write a Python program that performs concurrent HTTP requests using threads.\n",
    "\n",
    "import threading\n",
    "import requests\n",
    "\n",
    "def request_maker(url):\n",
    "    response=requests.get(url)\n",
    "    print(f\"Response from {url}:{response.status_code}\")\n",
    "\n",
    "urls = [\"https://images.pexels.com/photos/27276934/pexels-photo-27276934/free-photo-of-a-statue-of-a-man-holding-a-book-in-front-of-a-brick-building.jpeg?auto=compress&cs=tinysrgb&w=600\"\n",
    "    ,\"https://images.pexels.com/photos/30660398/pexels-photo-30660398/free-photo-of-todaiji-temple-reflected-in-calm-pond-in-nara.jpeg?auto=compress&cs=tinysrgb&w=600\"\n",
    "    ,\"https://images.pexels.com/photos/30596982/pexels-photo-30596982/free-photo-of-elevated-view-of-pantheon-paris-skyline.jpeg?auto=compress&cs=tinysrgb&w=600\"]\n",
    "\n",
    "threads = []\n",
    "for url in urls:\n",
    "    thread = threading.Thread(target=request_maker, args=(url, ))\n",
    "    thread.start()\n",
    "    threads.append(thread)\n",
    "\n",
    "for thread in threads:\n",
    "    thread.join()\n",
    "\n",
    "print(\"All requests completed.\")\n",
    "\n",
    "\n"
   ]
  }
 ],
 "metadata": {
  "kernelspec": {
   "display_name": "Python 3",
   "language": "python",
   "name": "python3"
  },
  "language_info": {
   "codemirror_mode": {
    "name": "ipython",
    "version": 3
   },
   "file_extension": ".py",
   "mimetype": "text/x-python",
   "name": "python",
   "nbconvert_exporter": "python",
   "pygments_lexer": "ipython3",
   "version": "3.12.8"
  }
 },
 "nbformat": 4,
 "nbformat_minor": 2
}
