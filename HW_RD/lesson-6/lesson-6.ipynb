{
 "cells": [
  {
   "cell_type": "code",
   "execution_count": 2,
   "metadata": {},
   "outputs": [
    {
     "name": "stdout",
     "output_type": "stream",
     "text": [
      "[1, 4]\n"
     ]
    }
   ],
   "source": [
    "#2.\n",
    "def uncomman_elements(list1,list2):\n",
    "    set_list1=set(list1)\n",
    "    set_list2=set(list2)\n",
    "    set_inter=set_list1.intersection(set_list2)\n",
    "    inter=list(set_inter)\n",
    "    list1.extend(list2)\n",
    "    return [item for item in list1 if item not in inter]\n",
    "\n",
    "# list1=[1, 1, 2]\n",
    "# list2=[2, 3, 4]\n",
    "list1=input(\"Enter the elements of first list using comma\")\n",
    "list2=input(\"Enter the elements of second list using comma\")\n",
    "list1=list(map(int,list1.split(',')))\n",
    "list2=list(map(int,list2.split(',')))\n",
    "print(uncomman_elements(list1,list2))\n",
    "\n"
   ]
  },
  {
   "cell_type": "code",
   "execution_count": 4,
   "metadata": {},
   "outputs": [
    {
     "name": "stdout",
     "output_type": "stream",
     "text": [
      "heil_kj__tm\n"
     ]
    }
   ],
   "source": [
    "def underscores(text):\n",
    "    vowels = \"aeiouAEIOU\"\n",
    "    text1 = []\n",
    "    count = 0\n",
    "    i = 0  \n",
    "    while i < len(text):\n",
    "        letter = text[i]\n",
    "        text1.append(letter)\n",
    "        count += 1\n",
    "\n",
    "        if count == 3:\n",
    "            if letter in vowels:\n",
    "                if i + 1 < len(text): \n",
    "                    text1.append(text[i + 1]) \n",
    "                    text1.append('_')  \n",
    "                    count = 0 \n",
    "                    i += 2 \n",
    "                    continue \n",
    "            elif len(text1) > 1 and text1[-2] == '_':\n",
    "                count -= 1 \n",
    "            else:\n",
    "                if i + 1 < len(text): \n",
    "                    text1.append('_')  \n",
    "                count = 0  \n",
    "\n",
    "        i += 1  \n",
    "\n",
    "    return ''.join(text1)\n",
    "\n",
    "text =\"heilkj_tm\"\n",
    "result = underscores(text)\n",
    "print(result)"
   ]
  }
 ],
 "metadata": {
  "kernelspec": {
   "display_name": "Python 3",
   "language": "python",
   "name": "python3"
  },
  "language_info": {
   "codemirror_mode": {
    "name": "ipython",
    "version": 3
   },
   "file_extension": ".py",
   "mimetype": "text/x-python",
   "name": "python",
   "nbconvert_exporter": "python",
   "pygments_lexer": "ipython3",
   "version": "3.12.8"
  }
 },
 "nbformat": 4,
 "nbformat_minor": 2
}
